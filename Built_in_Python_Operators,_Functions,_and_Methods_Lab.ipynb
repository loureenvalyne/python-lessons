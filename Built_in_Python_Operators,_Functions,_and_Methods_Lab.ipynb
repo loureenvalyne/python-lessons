{
  "cells": [
    {
      "cell_type": "markdown",
      "metadata": {
        "id": "view-in-github",
        "colab_type": "text"
      },
      "source": [
        "<a href=\"https://colab.research.google.com/github/loureenvalyne/python-lessons/blob/main/Built_in_Python_Operators%2C_Functions%2C_and_Methods_Lab.ipynb\" target=\"_parent\"><img src=\"https://colab.research.google.com/assets/colab-badge.svg\" alt=\"Open In Colab\"/></a>"
      ]
    },
    {
      "cell_type": "markdown",
      "metadata": {
        "id": "KRP99LRXStC6"
      },
      "source": [
        "# Built-in Python Operators, Functions, and Methods - Lab\n",
        "\n",
        "## Introduction\n",
        "We've looked at some of the built-in methods, functions, and the operators in Python. These are all very powerful tools we can (and will) use in our code. Below, we'll put these new tools to use to solve the tests in this lab.\n",
        "\n",
        "## Objectives\n",
        "\n",
        "In this lab you will:\n",
        "\n",
        "* Use built-in Python functions and methods\n",
        "* Use comparison operators to compare objects\n",
        "* Use logical operators to incorporate multiple conditions\n",
        "* Use identity operators to confirm the identity of an object\n",
        "\n",
        "\n",
        "## Instructions\n",
        "\n",
        "Let's start by using some built-in functions and methods. Employ the appropriate functions and methods to get the intended result."
      ]
    },
    {
      "cell_type": "code",
      "execution_count": 7,
      "metadata": {
        "id": "0CRSFKFMStC8",
        "outputId": "78bc2715-85cf-44d9-9984-4b785bd71b68",
        "colab": {
          "base_uri": "https://localhost:8080/",
          "height": 36
        }
      },
      "outputs": [
        {
          "output_type": "execute_result",
          "data": {
            "text/plain": [
              "'HELLO, THERE'"
            ],
            "application/vnd.google.colaboratory.intrinsic+json": {
              "type": "string"
            }
          },
          "metadata": {},
          "execution_count": 7
        }
      ],
      "source": [
        "# Desired output: \"HELLO, THERE\"\n",
        "yell_hello = \"hello, there\"\n",
        "yell_hello.upper()"
      ]
    },
    {
      "cell_type": "code",
      "execution_count": 4,
      "metadata": {
        "id": "ZbfPehynStC9",
        "outputId": "8ae19c0f-0433-409a-d3e2-db6816a79747",
        "colab": {
          "base_uri": "https://localhost:8080/",
          "height": 36
        }
      },
      "outputs": [
        {
          "output_type": "execute_result",
          "data": {
            "text/plain": [
              "'psst, hey'"
            ],
            "application/vnd.google.colaboratory.intrinsic+json": {
              "type": "string"
            }
          },
          "metadata": {},
          "execution_count": 4
        }
      ],
      "source": [
        "# Desired output: \"psst, hey\"\n",
        "whisper_hey = \"PSST, HEY\"\n",
        "whisper_hey.lower()"
      ]
    },
    {
      "cell_type": "code",
      "execution_count": 9,
      "metadata": {
        "id": "JALXCFDXStC9",
        "outputId": "8ea10ca1-b885-45b1-e4da-1be6389d9a63",
        "colab": {
          "base_uri": "https://localhost:8080/",
          "height": 36
        }
      },
      "outputs": [
        {
          "output_type": "execute_result",
          "data": {
            "text/plain": [
              "'Learn. Love. Code.'"
            ],
            "application/vnd.google.colaboratory.intrinsic+json": {
              "type": "string"
            }
          },
          "metadata": {},
          "execution_count": 9
        }
      ],
      "source": [
        "# Desired output: \"Learn. Love. Code\"\n",
        "flatiron_mantra = \"LEARN. LOVE. CODE.\"\n",
        "flatiron_mantra.title()"
      ]
    },
    {
      "cell_type": "code",
      "execution_count": 10,
      "metadata": {
        "id": "SZn2nfvPStC9",
        "outputId": "55e493b5-214f-44e4-9734-107b21f4030b",
        "colab": {
          "base_uri": "https://localhost:8080/"
        }
      },
      "outputs": [
        {
          "output_type": "execute_result",
          "data": {
            "text/plain": [
              "str"
            ]
          },
          "metadata": {},
          "execution_count": 10
        }
      ],
      "source": [
        "# Desired output: str\n",
        "type_string = \"i'm a string\"\n",
        "type(type_string)"
      ]
    },
    {
      "cell_type": "code",
      "execution_count": 11,
      "metadata": {
        "id": "SaAhnk_tStC9",
        "outputId": "96ea0a65-313a-4a5c-9c20-dc8f9e129f77",
        "colab": {
          "base_uri": "https://localhost:8080/"
        }
      },
      "outputs": [
        {
          "output_type": "execute_result",
          "data": {
            "text/plain": [
              "list"
            ]
          },
          "metadata": {},
          "execution_count": 11
        }
      ],
      "source": [
        "# Desired output: list\n",
        "type_list = [\"i'm\", \"a\", \"list\"]\n",
        "type(type_list)"
      ]
    },
    {
      "cell_type": "code",
      "execution_count": 12,
      "metadata": {
        "id": "EcXEBHkXStC9",
        "outputId": "b5147475-4f57-4a66-f0a4-aec4caf8d131",
        "colab": {
          "base_uri": "https://localhost:8080/"
        }
      },
      "outputs": [
        {
          "output_type": "execute_result",
          "data": {
            "text/plain": [
              "3"
            ]
          },
          "metadata": {},
          "execution_count": 12
        }
      ],
      "source": [
        "# Desired output: 3\n",
        "length_of_list = [\"i'm\", \"a\", \"list\"]\n",
        "len(length_of_list)"
      ]
    },
    {
      "cell_type": "code",
      "execution_count": 13,
      "metadata": {
        "id": "wqo5yh5RStC-",
        "outputId": "a15b062a-7ece-4801-b7f2-f8184a3cf619",
        "colab": {
          "base_uri": "https://localhost:8080/",
          "height": 36
        }
      },
      "outputs": [
        {
          "output_type": "execute_result",
          "data": {
            "text/plain": [
              "'list'"
            ],
            "application/vnd.google.colaboratory.intrinsic+json": {
              "type": "string"
            }
          },
          "metadata": {},
          "execution_count": 13
        }
      ],
      "source": [
        "# Desired output: \"list\"\n",
        "longest_word_in_list = [\"i'm\", \"a\", \"list\"]\n",
        "max(longest_word_in_list)"
      ]
    },
    {
      "cell_type": "code",
      "execution_count": 14,
      "metadata": {
        "id": "s4Z0FSt_StC-",
        "outputId": "4290c473-9715-4cca-c068-3b5eea6da22f",
        "colab": {
          "base_uri": "https://localhost:8080/"
        }
      },
      "outputs": [
        {
          "output_type": "execute_result",
          "data": {
            "text/plain": [
              "1"
            ]
          },
          "metadata": {},
          "execution_count": 14
        }
      ],
      "source": [
        "# Desired output: 1\n",
        "smallest_number = [1, 3, 4, 78]\n",
        "min(smallest_number)"
      ]
    },
    {
      "cell_type": "code",
      "execution_count": 15,
      "metadata": {
        "id": "lLS8g5y1StC-",
        "outputId": "2ca2e08b-0bb7-4450-baf9-c5a7d8e56bb7",
        "colab": {
          "base_uri": "https://localhost:8080/"
        }
      },
      "outputs": [
        {
          "output_type": "execute_result",
          "data": {
            "text/plain": [
              "11"
            ]
          },
          "metadata": {},
          "execution_count": 15
        }
      ],
      "source": [
        "# Desired output: 11\n",
        "sum_of_numbers = [1, 2, 3, 5]\n",
        "sum(sum_of_numbers)"
      ]
    },
    {
      "cell_type": "markdown",
      "metadata": {
        "id": "3rDaNml4StC-"
      },
      "source": [
        "Uncomment the code in each cell as you start working on them. For example, when you begin working on the first cell, remove `#` at the start of each line.  \n",
        "\n",
        "> **Note:** The `cmd+?` keyboard shortcut comments or uncomments a given line of code!\n",
        "\n",
        "Replace `[COMPARISON]`, with the correct comparison operator to get the desired output, which you will find as a comment at the end of each line. See the example below.\n",
        "\n",
        "```python\n",
        "# boolean_compare = False [COMPARISON] True # True\n",
        "=> boolean_compare = False != True # True\n",
        "OR\n",
        "=> boolean_compare = False != True\n",
        "```\n",
        "\n",
        "Once uncommented, you can check the output to see if your comparisons match the answers provided in the ending comments."
      ]
    },
    {
      "cell_type": "markdown",
      "metadata": {
        "id": "_ughuviiStC-"
      },
      "source": [
        "> **Remember** the comparison operators are: `==`, `!=`, `<`, `>`, `<=`, `>=`"
      ]
    },
    {
      "cell_type": "code",
      "execution_count": 16,
      "metadata": {
        "id": "A2jzgC8ZStC_",
        "outputId": "ba5c0649-cad6-4502-f190-caadb45cccea",
        "colab": {
          "base_uri": "https://localhost:8080/"
        }
      },
      "outputs": [
        {
          "output_type": "stream",
          "name": "stdout",
          "text": [
            "False False\n"
          ]
        }
      ],
      "source": [
        "boolean_compare = True != True # False\n",
        "boolean_compare2 = False == True # False\n",
        "print(boolean_compare, boolean_compare2)"
      ]
    },
    {
      "cell_type": "code",
      "execution_count": 18,
      "metadata": {
        "id": "hwC08HwvStC_",
        "outputId": "ff91cd8f-bcdd-4f64-8f63-55f365846fe6",
        "colab": {
          "base_uri": "https://localhost:8080/"
        }
      },
      "outputs": [
        {
          "output_type": "stream",
          "name": "stdout",
          "text": [
            "True True False\n"
          ]
        }
      ],
      "source": [
        "number_compare = 10 == 10 # True\n",
        "number_compare2 = -20 < 30 # True\n",
        "number_compare3 = 4 > 5 # False\n",
        "print(number_compare, number_compare2, number_compare3)"
      ]
    },
    {
      "cell_type": "code",
      "execution_count": 20,
      "metadata": {
        "id": "pdq69FTqStC_",
        "outputId": "2ec8e59a-efe6-4238-cc06-e73009f23cdc",
        "colab": {
          "base_uri": "https://localhost:8080/"
        }
      },
      "outputs": [
        {
          "output_type": "stream",
          "name": "stdout",
          "text": [
            "True False True\n"
          ]
        }
      ],
      "source": [
        "string_compare = \"stacy\" > \"STACY\" # True\n",
        "string_compare2 = \"hey i love python!\" == \"hi love python\" # False\n",
        "string_compare3 = \"this string is bigger than the other\" >= \"that is true\" # True\n",
        "print(string_compare, string_compare2, string_compare3)"
      ]
    },
    {
      "cell_type": "markdown",
      "metadata": {
        "id": "pHPDiaBSStC_"
      },
      "source": [
        "In the next section, do not use either `==` or `!=` operators"
      ]
    },
    {
      "cell_type": "code",
      "execution_count": 23,
      "metadata": {
        "scrolled": true,
        "id": "XDAdJWPzStC_",
        "outputId": "1ed7bc7a-56e1-4617-f29e-7e76eb7951c1",
        "colab": {
          "base_uri": "https://localhost:8080/"
        }
      },
      "outputs": [
        {
          "output_type": "stream",
          "name": "stdout",
          "text": [
            "True True False True False\n"
          ]
        }
      ],
      "source": [
        "list_compare = [0, 0, 0, 0] > [0, 0, 0] # True\n",
        "list_compare2 = [1, 0, 0] > [0, 0, 0] # True\n",
        "list_compare3 = [0, 0, 0] > [0, 0, 3] # False\n",
        "list_compare4 = [0, 0, 3, 0] > [0, 0, 3] # True\n",
        "list_compare5 = [0, 0, 4, 0] < [0, 0, 3] # False\n",
        "print(list_compare, list_compare2, list_compare3, list_compare4, list_compare5)"
      ]
    },
    {
      "cell_type": "markdown",
      "metadata": {
        "id": "H-a6A0GpStC_"
      },
      "source": [
        "### Practicing Identity and Logical Operators"
      ]
    },
    {
      "cell_type": "markdown",
      "metadata": {
        "id": "E-7yxMLYStC_"
      },
      "source": [
        "In this next section, use the identity and logical operators to get the desired output as you did in the examples above using the comparison operators."
      ]
    },
    {
      "cell_type": "markdown",
      "metadata": {
        "id": "Gf8Te1qJStC_"
      },
      "source": [
        "> **Remember** the **logical operators** are `and`, `or`, & `not`; and the **identity operators** are `is` & `is not`"
      ]
    },
    {
      "cell_type": "markdown",
      "metadata": {
        "id": "qqV-aOthStC_"
      },
      "source": [
        "Use logical operators for this section"
      ]
    },
    {
      "cell_type": "code",
      "execution_count": 27,
      "metadata": {
        "id": "CTN4utLsStC_",
        "outputId": "26a5aaba-a9b4-436f-b41b-02df96df6359",
        "colab": {
          "base_uri": "https://localhost:8080/"
        }
      },
      "outputs": [
        {
          "output_type": "stream",
          "name": "stdout",
          "text": [
            "[] True 0 2 2 False False\n"
          ]
        }
      ],
      "source": [
        "logical_compare = 2 and [] # []\n",
        "logical_compare2 = not[] # True\n",
        "logical_compare3 = 0 and [] # 0\n",
        "logical_compare4 = True and 2 # 2\n",
        "logical_compare5 = 2 or 3 # 2\n",
        "logical_compare6 = not True # False\n",
        "logical_compare7 = False and 2 # False\n",
        "print(logical_compare, logical_compare2, logical_compare3, logical_compare4,\n",
        "      logical_compare5, logical_compare6, logical_compare7)"
      ]
    },
    {
      "cell_type": "markdown",
      "metadata": {
        "id": "s_SyolnCStDA"
      },
      "source": [
        "Use identity operators for this section"
      ]
    },
    {
      "cell_type": "code",
      "execution_count": 29,
      "metadata": {
        "id": "fKsvJvsDStDA",
        "outputId": "4cbd6219-d4ce-465e-d67d-51b803b0b386",
        "colab": {
          "base_uri": "https://localhost:8080/"
        }
      },
      "outputs": [
        {
          "output_type": "stream",
          "name": "stdout",
          "text": [
            "False True True True False False\n"
          ]
        },
        {
          "output_type": "stream",
          "name": "stderr",
          "text": [
            "<>:6: SyntaxWarning: \"is not\" with a literal. Did you mean \"!=\"?\n",
            "<>:7: SyntaxWarning: \"is not\" with a literal. Did you mean \"!=\"?\n",
            "<>:6: SyntaxWarning: \"is not\" with a literal. Did you mean \"!=\"?\n",
            "<>:7: SyntaxWarning: \"is not\" with a literal. Did you mean \"!=\"?\n",
            "<ipython-input-29-d776022229fa>:6: SyntaxWarning: \"is not\" with a literal. Did you mean \"!=\"?\n",
            "  identity_compare4 = 9 is not 10 # True\n",
            "<ipython-input-29-d776022229fa>:7: SyntaxWarning: \"is not\" with a literal. Did you mean \"!=\"?\n",
            "  identity_compare5 = \"Same\" is not \"Same\" # False\n"
          ]
        }
      ],
      "source": [
        "a = []\n",
        "b = a\n",
        "identity_compare = {} is {} # False\n",
        "identity_compare2 = a is b # True\n",
        "identity_compare3 = b is not [] # True\n",
        "identity_compare4 = 9 is not 10 # True\n",
        "identity_compare5 = \"Same\" is not \"Same\" # False\n",
        "identity_compare6 = [1,3,4] is [1,2,3] # False\n",
        "print(identity_compare, identity_compare2, identity_compare3,\n",
        "      identity_compare4, identity_compare5, identity_compare6)"
      ]
    },
    {
      "cell_type": "markdown",
      "metadata": {
        "id": "LB0jL1kOStDA"
      },
      "source": [
        "## Summary\n",
        "Great work! After all that, there's nothing we can't compare. Well, I guess apples and oranges might still be off the table. We practiced using comparison, logical, and identity operators in Python to compare elements of the same and different datatypes and/or values. Going forward, there will be plenty of instances where we will need to compare elements. So, it is important to have a good understanding of how each of these operators works. Don't worry, as with all concepts in programming, the more we work with something the better we understand it."
      ]
    }
  ],
  "metadata": {
    "kernelspec": {
      "display_name": "Python (learn-env)",
      "language": "python",
      "name": "learn-env"
    },
    "language_info": {
      "codemirror_mode": {
        "name": "ipython",
        "version": 3
      },
      "file_extension": ".py",
      "mimetype": "text/x-python",
      "name": "python",
      "nbconvert_exporter": "python",
      "pygments_lexer": "ipython3",
      "version": "3.8.5"
    },
    "toc": {
      "base_numbering": 1,
      "nav_menu": {},
      "number_sections": true,
      "sideBar": true,
      "skip_h1_title": false,
      "title_cell": "Table of Contents",
      "title_sidebar": "Contents",
      "toc_cell": false,
      "toc_position": {},
      "toc_section_display": true,
      "toc_window_display": false
    },
    "colab": {
      "provenance": [],
      "name": "Built-in Python Operators, Functions, and Methods - Lab.ipynb",
      "include_colab_link": true
    }
  },
  "nbformat": 4,
  "nbformat_minor": 0
}