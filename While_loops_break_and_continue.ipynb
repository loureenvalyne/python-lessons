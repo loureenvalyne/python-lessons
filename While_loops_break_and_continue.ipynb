{
  "cells": [
    {
      "cell_type": "markdown",
      "metadata": {
        "id": "view-in-github",
        "colab_type": "text"
      },
      "source": [
        "<a href=\"https://colab.research.google.com/github/loureenvalyne/python-lessons/blob/main/While_loops_break_and_continue.ipynb\" target=\"_parent\"><img src=\"https://colab.research.google.com/assets/colab-badge.svg\" alt=\"Open In Colab\"/></a>"
      ]
    },
    {
      "cell_type": "markdown",
      "metadata": {
        "id": "U_oFI0UmXQkz"
      },
      "source": [
        "# While Loops, Break and Continue - Lab"
      ]
    },
    {
      "cell_type": "markdown",
      "metadata": {
        "id": "WeIR9xt2XQk0"
      },
      "source": [
        "## Introduction\n",
        "In this lab, we will practice using `while` loops, and `break` and `continue` statements in our code. We will use our control flow statements to iterate through collections and filter out or selectively operate on each element. We'll use `while` loops to perform operations until a given condition is no longer true."
      ]
    },
    {
      "cell_type": "markdown",
      "metadata": {
        "id": "xfoc76eQXQk1"
      },
      "source": [
        "## Objectives\n",
        "You will be able to:\n",
        "\n",
        "* Use a `while` loop\n",
        "* Use `break` and `continue` to add control flow to a `while` loop"
      ]
    },
    {
      "cell_type": "markdown",
      "metadata": {
        "id": "aaeN4_GHXQk1"
      },
      "source": [
        "## Instructions\n",
        "\n",
        "### While Loops\n",
        "\n",
        "Imagine a person named Agnes is finally ready to achieve her dream of becoming a competitive eater! Because the competition is so fierce, she knows she'll need to do lots of training to become number one.\n",
        "\n",
        "Her first regiment of training consists of eating pizza. Below is a `for` loop version of her training process. Using your knowledge of `while` loops, translate the pizza eating code below from a `for` loop to a `while` loop."
      ]
    },
    {
      "cell_type": "code",
      "execution_count": 1,
      "metadata": {
        "id": "EOboJ-07XQk1",
        "outputId": "0dd043cb-616f-4324-9c65-098f6c3dc0fd",
        "colab": {
          "base_uri": "https://localhost:8080/"
        }
      },
      "outputs": [
        {
          "output_type": "stream",
          "name": "stdout",
          "text": [
            "Another slice eaten!\n",
            "Now eaten 1 slices!\n",
            "Another slice eaten!\n",
            "Now eaten 2 slices!\n",
            "Another slice eaten!\n",
            "Now eaten 3 slices!\n",
            "Another slice eaten!\n",
            "Now eaten 4 slices!\n",
            "Another slice eaten!\n",
            "Now eaten 5 slices!\n",
            "Another slice eaten!\n",
            "Now eaten 6 slices!\n"
          ]
        }
      ],
      "source": [
        "slices_of_pie = 6\n",
        "slices_eaten = 0\n",
        "\n",
        "for slice in range(slices_of_pie):\n",
        "    print('Another slice eaten!')\n",
        "    slices_eaten += 1\n",
        "    print('Now eaten {} slices!'.format(slices_eaten))"
      ]
    },
    {
      "cell_type": "code",
      "execution_count": 3,
      "metadata": {
        "id": "EJtFcin-XQk3",
        "outputId": "e82a2b75-ba8e-4f14-f983-6320b362209e",
        "colab": {
          "base_uri": "https://localhost:8080/"
        }
      },
      "outputs": [
        {
          "output_type": "stream",
          "name": "stdout",
          "text": [
            "Another slice eaten!\n",
            "Now eaten 1 slices!\n",
            "Another slice eaten!\n",
            "Now eaten 2 slices!\n",
            "Another slice eaten!\n",
            "Now eaten 3 slices!\n",
            "Another slice eaten!\n",
            "Now eaten 4 slices!\n",
            "Another slice eaten!\n",
            "Now eaten 5 slices!\n",
            "Another slice eaten!\n",
            "Now eaten 6 slices!\n"
          ]
        }
      ],
      "source": [
        "slices_of_pie = 6\n",
        "slices_eaten = 0\n",
        "\n",
        "# add your while loop here that achieves the same results as the for loop above\n",
        "slices_of_pie = 6\n",
        "slices_eaten = 0\n",
        "\n",
        "while slices_eaten < slices_of_pie:\n",
        "    print('Another slice eaten!')\n",
        "    slices_eaten += 1\n",
        "    print('Now eaten {} slices!'.format(slices_eaten))"
      ]
    },
    {
      "cell_type": "markdown",
      "metadata": {
        "id": "KbEL3FirXQk3"
      },
      "source": [
        "After a long night of training with pizza, Agnes sleeps like a rock. When she wakes up in the morning, she realizes that her journey is not over. It has only just begun! In the next cell, continue her training; this time she'll be eating pancakes. None of the pancakes are prepared yet, and she wants to determine how much time she'll have left over after making all the pancakes. Here are the important details:\n",
        "\n",
        "* Agnes has 1468 seconds allotted for breakfast today\n",
        "* Agnes will be making herself 5 pancakes\n",
        "* Each pancake takes 27 seconds to cook on each side\n",
        "* It takes an average of 5 seconds to either flip a pancake, add it or remove it from the pan\n",
        "* There is only room for one pancake at a time on the frying pan\n",
        "* Remember there are two sides to every pancake!  \n",
        "\n",
        "After Agnes cooks the 5 pancakes, how much time will she have left over to eat them? Use a while loop to find out below."
      ]
    },
    {
      "cell_type": "code",
      "execution_count": 5,
      "metadata": {
        "id": "-wBr10KmXQk3",
        "outputId": "b1f82bac-97f8-44f2-b3c0-c3ddf44a43ae",
        "colab": {
          "base_uri": "https://localhost:8080/"
        }
      },
      "outputs": [
        {
          "output_type": "stream",
          "name": "stdout",
          "text": [
            "Time left over to eat the pancakes: 1123 seconds\n"
          ]
        }
      ],
      "source": [
        "time_for_breakfast = 1468 # in seconds\n",
        "number_of_cooked_pancakes = 0\n",
        "\n",
        "# write your while loop here\n",
        "\n",
        "# use a while loop to make 5 pancakes for breakfast\n",
        "# each pancake takes 27 seconds to cook on each side\n",
        "# it takes an average of 5 seconds to flip a pancake, add or remove a pancake from the pan.\n",
        "# you must decrease the time_for_breakfast each time you\n",
        "# add a pancake to the skillet (frying pan) or flip a pancake (i.e. 2 times per pancake)\n",
        "# there is only room for one pancake at a time\n",
        "\n",
        "total_time_available = 1468\n",
        "pancakes_to_make = 5\n",
        "time_per_pancake = 54 + 15  # 54 seconds to cook, 15 seconds to handle\n",
        "\n",
        "total_time_used = 0\n",
        "pancakes_made = 0\n",
        "\n",
        "while pancakes_made < pancakes_to_make:\n",
        "    total_time_used += time_per_pancake\n",
        "    pancakes_made += 1\n",
        "\n",
        "time_left = total_time_available - total_time_used\n",
        "\n",
        "print(f\"Time left over to eat the pancakes: {time_left} seconds\")\n",
        "\n",
        "# print out how much time is remaining"
      ]
    },
    {
      "cell_type": "markdown",
      "metadata": {
        "id": "4f2zlKChXQk3"
      },
      "source": [
        "## For Loops"
      ]
    },
    {
      "cell_type": "markdown",
      "metadata": {
        "id": "WdTOgoY_XQk3"
      },
      "source": [
        "Fast forward 5 years, and Agnes has become an international competitive eating superstar. Using her starpower, she decides to open up a restaurant chain. As part of a promotional deal, at a grand opening, she tells her fans that if they are part of the first 30 people to the restaurant, there is a 50% chance that they'll receive free food. Agnes executes this by giving each of the first 30 people a number ranging from 0-29. All people who have an even number will receive free food, and all those with odd numbers will sadly remain hungry :(. Use a loop to create two lists below of:\n",
        "\n",
        "* `hungry_patrons`\n",
        "* `fed_patrons`\n",
        "\n",
        "All people will start out in the list of `hungry_patrons`, and only the lucky ones will move to `fed_patrons`.\n",
        "\n",
        "> **Hint:** You may find the [remove method](https://www.programiz.com/python-programming/methods/list/remove) to be useful for the next problem"
      ]
    },
    {
      "cell_type": "code",
      "execution_count": 6,
      "metadata": {
        "id": "QRg1f-YwXQk3",
        "outputId": "c7722bf2-eec8-4d1a-e6c1-79f77142ce57",
        "colab": {
          "base_uri": "https://localhost:8080/"
        }
      },
      "outputs": [
        {
          "output_type": "stream",
          "name": "stdout",
          "text": [
            "Hungry patrons: [1, 3, 5, 7, 9, 11, 13, 15, 17, 19, 21, 23, 25, 27, 29]\n",
            "Fed patrons: [0, 2, 4, 6, 8, 10, 12, 14, 16, 18, 20, 22, 24, 26, 28]\n"
          ]
        }
      ],
      "source": [
        "line_of_hungry_patrons = list(range(0,30))\n",
        "fed_patrons = []\n",
        "# use a for or while loop to feed the hungry patrons who have an even number\n",
        "# add the patrons with an even number to the fed_patrons list\n",
        "# then remove the even numbered patrons from the line_of_hungry_patrons\n",
        "# each list should contain 15 elements\n",
        "\n",
        "# Initialize the lists\n",
        "hungry_patrons = []\n",
        "fed_patrons = []\n",
        "\n",
        "# Fill the hungry_patrons list with numbers from 0 to 29\n",
        "for number in range(30):\n",
        "    hungry_patrons.append(number)\n",
        "\n",
        "# Process each number to determine if they should be in fed_patrons or remain in hungry_patrons\n",
        "for number in hungry_patrons[:]:  # Use a slice copy to avoid modifying the list while iterating\n",
        "    if number % 2 == 0:  # Check if the number is even\n",
        "        fed_patrons.append(number)  # Move the number to fed_patrons\n",
        "        hungry_patrons.remove(number)  # Remove the number from hungry_patrons\n",
        "\n",
        "# Output the lists\n",
        "print(\"Hungry patrons:\", hungry_patrons)\n",
        "print(\"Fed patrons:\", fed_patrons)"
      ]
    },
    {
      "cell_type": "markdown",
      "metadata": {
        "id": "lVboZTbNXQk4"
      },
      "source": [
        "### `break` And `continue` Statements"
      ]
    },
    {
      "cell_type": "markdown",
      "metadata": {
        "id": "rWHUIqrHXQk4"
      },
      "source": [
        "Agnes decides that she wants to start creating targeted advertisements for people. Here is a list of customer objects with information about their name, age, job, pet, and pet name. You'll use loops to find people that meet certain requirements for Agnes' targeted marketing. Write `for` loops with conditional statements in conjunction with `break` and `continue` to get the desired output."
      ]
    },
    {
      "cell_type": "code",
      "execution_count": 7,
      "metadata": {
        "id": "gdDreY7oXQk4"
      },
      "outputs": [],
      "source": [
        "people = [\n",
        "    {'name': \"Daniel\", 'age': 29, 'job': \"Engineer\", 'pet': \"Cat\", 'pet_name': \"Gato\"},\n",
        "    {'name': \"Katie\", 'age': 30, 'job': \"Teacher\", 'pet': \"Dog\", 'pet_name': \"Frank\"},\n",
        "    {'name': \"Owen\", 'age': 26, 'job': \"Sales person\", 'pet': \"Cat\", 'pet_name': \"Cosmo\"},\n",
        "    {'name': \"Josh\", 'age': 22, 'job': \"Student\", 'pet': \"Cat\", 'pet_name': \"Chat\"},\n",
        "    {'name': \"Estelle\", 'age': 35, 'job': \"French Diplomat\", 'pet': \"Dog\", 'pet_name': \"Gabby\"},\n",
        "    {'name': \"Gustav\", 'age': 24, 'job': \"Brewer\", 'pet': \"Dog\", 'pet_name': \"Helen\"}\n",
        "]"
      ]
    },
    {
      "cell_type": "markdown",
      "metadata": {
        "id": "oRybIcqNXQk4"
      },
      "source": [
        "Use a `for` loop to find the first person in the list of people that has a dog as their pet. The iteration count shouldn't exceed 2. In your loop add a print statement that says\n",
        "\n",
        "```python\n",
        " \"{person} has a dog! Had to check {number} of records to find a dog owner.\"\n",
        "\n",
        "```\n",
        "The code has been started for you below:"
      ]
    },
    {
      "cell_type": "code",
      "execution_count": 8,
      "metadata": {
        "id": "H7oWUMTMXQk4",
        "outputId": "7edf682a-5b4a-4564-f781-adf77b407495",
        "colab": {
          "base_uri": "https://localhost:8080/"
        }
      },
      "outputs": [
        {
          "output_type": "stream",
          "name": "stdout",
          "text": [
            "Katie has a dog! Had to check 2 records to find a dog owner.\n"
          ]
        }
      ],
      "source": [
        "first_dog_person = None\n",
        "iteration_count = 0\n",
        "for person in people:\n",
        "    iteration_count += 1\n",
        "    # Continue writing code here\n",
        "    if person['pet'] == 'Dog':\n",
        "        first_dog_person = person\n",
        "        print(f\"{person['name']} has a dog! Had to check {iteration_count} records to find a dog owner.\")\n",
        "        break\n",
        "    if iteration_count >= 2:\n",
        "        break\n"
      ]
    },
    {
      "cell_type": "markdown",
      "metadata": {
        "id": "Hi1hG3DUXQk4"
      },
      "source": [
        "Now, use a `for` loop to create a list of all the cat owners who are under the age of 28."
      ]
    },
    {
      "cell_type": "code",
      "execution_count": 10,
      "metadata": {
        "id": "Io3CzSTFXQk4",
        "outputId": "df9b7391-c44c-4a9f-d157-9384d5cd611f",
        "colab": {
          "base_uri": "https://localhost:8080/"
        }
      },
      "outputs": [
        {
          "output_type": "stream",
          "name": "stdout",
          "text": [
            "Cat owners under 28: [{'name': 'Owen', 'age': 26, 'job': 'Sales person', 'pet': 'Cat', 'pet_name': 'Cosmo'}, {'name': 'Josh', 'age': 22, 'job': 'Student', 'pet': 'Cat', 'pet_name': 'Chat'}]\n"
          ]
        }
      ],
      "source": [
        "# Initialize the list to store cat owners under 28\n",
        "cat_owners_under_28 = []\n",
        "\n",
        "# Loop through the list of people\n",
        "for person in people:\n",
        "    if person['pet'] == 'Cat' and person['age'] < 28:\n",
        "        cat_owners_under_28.append(person)\n",
        "\n",
        "# Output the list of cat owners under 28\n",
        "print(\"Cat owners under 28:\", cat_owners_under_28)"
      ]
    },
    {
      "cell_type": "markdown",
      "metadata": {
        "id": "whVvxZXCXQk4"
      },
      "source": [
        "Use a `for` loop to find the first person who is above 29 years old. Use a print statement to state their name and how old they are."
      ]
    },
    {
      "cell_type": "code",
      "execution_count": 11,
      "metadata": {
        "id": "2_WTxqHNXQk4",
        "outputId": "2fa12cb8-14be-4ddd-d40e-7b4a762b2f35",
        "colab": {
          "base_uri": "https://localhost:8080/"
        }
      },
      "outputs": [
        {
          "output_type": "stream",
          "name": "stdout",
          "text": [
            "The first person above 29 years old is Katie who is 30 years old.\n"
          ]
        }
      ],
      "source": [
        "thirty_something_yr_old = None\n",
        "# for loop goes here\n",
        "# Loop through the list of people\n",
        "for person in people:\n",
        "    if person['age'] > 29:\n",
        "        print(f\"The first person above 29 years old is {person['name']} who is {person['age']} years old.\")\n",
        "        break  # Exit the loop after finding the first match"
      ]
    },
    {
      "cell_type": "markdown",
      "metadata": {
        "id": "4kf8-LVbXQk4"
      },
      "source": [
        "Use a `for` loop to create a list of people's names and another list of pet names for all the **dog owners**."
      ]
    },
    {
      "cell_type": "code",
      "execution_count": 12,
      "metadata": {
        "id": "DMrH6zJqXQk4",
        "outputId": "a9a103ff-f252-46de-dc8d-43d3ae88445d",
        "colab": {
          "base_uri": "https://localhost:8080/"
        }
      },
      "outputs": [
        {
          "output_type": "stream",
          "name": "stdout",
          "text": [
            "Names of dog owners: ['Katie', 'Estelle', 'Gustav']\n",
            "Pet names of dog owners: ['Frank', 'Gabby', 'Helen']\n"
          ]
        }
      ],
      "source": [
        "dog_owner_names = None\n",
        "dog_names = None\n",
        "# for loop goes here\n",
        "# Initialize lists to store names and pet names of dog owners\n",
        "dog_owners_names = []\n",
        "dog_owners_pet_names = []\n",
        "\n",
        "# Loop through the list of people\n",
        "for person in people:\n",
        "    if person['pet'] == 'Dog':\n",
        "        dog_owners_names.append(person['name'])\n",
        "        dog_owners_pet_names.append(person['pet_name'])\n",
        "\n",
        "# Output the lists\n",
        "print(\"Names of dog owners:\", dog_owners_names)\n",
        "print(\"Pet names of dog owners:\", dog_owners_pet_names)"
      ]
    },
    {
      "cell_type": "markdown",
      "metadata": {
        "id": "_wxPydMIXQk5"
      },
      "source": [
        "## Level Up\n",
        "Use a `for` loop to create a list of odd numbers from the list of numbers from 0 to 100. Each time there is an odd number, add 10 to it and append it to `list_of_odd_numbers_plus_ten`. Stop adding numbers to the list when there are 35 numbers in it. Once you have reached 35 numbers, return the sum of the new list of numbers."
      ]
    },
    {
      "cell_type": "code",
      "execution_count": 16,
      "metadata": {
        "id": "rYEn24KjXQk5",
        "outputId": "4e47d76d-c1c8-434a-e428-748cf871257a",
        "colab": {
          "base_uri": "https://localhost:8080/"
        }
      },
      "outputs": [
        {
          "output_type": "stream",
          "name": "stdout",
          "text": [
            "List of odd numbers plus ten: [11, 13, 15, 17, 19, 21, 23, 25, 27, 29, 31, 33, 35, 37, 39, 41, 43, 45, 47, 49, 51, 53, 55, 57, 59, 61, 63, 65, 67, 69, 71, 73, 75, 77, 79]\n",
            "Sum of the list: 1575\n"
          ]
        }
      ],
      "source": [
        "list_of_numbers = list(range(0, 100))\n",
        "list_of_odd_numbers_plus_ten = []\n",
        "\n",
        "# use a for loop to create a list of odd numbers from the list of numbers from 0 to 100\n",
        "# each time there is an odd number, add 10 to it and append it to the list_of_odd_numbers_plus_ten\n",
        "# stop adding numbers to the list when there are 35 numbers\n",
        "# use break and continue statements in your code\n",
        "for number in list_of_numbers:\n",
        "    # Continue writing code here\n",
        "\n",
        "    # Initialize the list to store the new numbers\n",
        "\n",
        "# Iterate through numbers from 0 to 100\n",
        "    # Check if the number is odd\n",
        "    if number % 2 != 0:\n",
        "        # Add 10 to the odd number\n",
        "        new_number = number + 10\n",
        "        # Append the new number to the list\n",
        "        list_of_odd_numbers_plus_ten.append(new_number)\n",
        "        # Check if we have reached 35 numbers\n",
        "        if len(list_of_odd_numbers_plus_ten) == 35:\n",
        "            break\n",
        "\n",
        "# Calculate the sum of the list\n",
        "sum_of_numbers = sum(list_of_odd_numbers_plus_ten)\n",
        "\n",
        "# Output the result\n",
        "print(\"List of odd numbers plus ten:\", list_of_odd_numbers_plus_ten)\n",
        "print(\"Sum of the list:\", sum_of_numbers)"
      ]
    },
    {
      "cell_type": "markdown",
      "metadata": {
        "id": "jFlTmBX2XQk5"
      },
      "source": [
        "## Summary"
      ]
    },
    {
      "cell_type": "markdown",
      "metadata": {
        "id": "2-bwV6QYXQk5"
      },
      "source": [
        "In this lab, we practiced using `while` loops, which continue executing their block of code until the given condition is no longer true. This is useful for instances where we do not have a collection or do not need a collection to solve our problem, especially when we would only like to stop the process according to a certain condition. We then practiced using control flow statements, `break` and `continue`, to selectively operate on elements, append them to new lists, or assign them to new variables."
      ]
    }
  ],
  "metadata": {
    "kernelspec": {
      "display_name": "Python 3",
      "language": "python",
      "name": "python3"
    },
    "language_info": {
      "codemirror_mode": {
        "name": "ipython",
        "version": 3
      },
      "file_extension": ".py",
      "mimetype": "text/x-python",
      "name": "python",
      "nbconvert_exporter": "python",
      "pygments_lexer": "ipython3",
      "version": "3.6.6"
    },
    "toc": {
      "base_numbering": 1,
      "nav_menu": {},
      "number_sections": true,
      "sideBar": true,
      "skip_h1_title": false,
      "title_cell": "Table of Contents",
      "title_sidebar": "Contents",
      "toc_cell": false,
      "toc_position": {},
      "toc_section_display": true,
      "toc_window_display": false
    },
    "colab": {
      "provenance": [],
      "name": "While_loops_break_and_continue.ipynb",
      "include_colab_link": true
    }
  },
  "nbformat": 4,
  "nbformat_minor": 0
}