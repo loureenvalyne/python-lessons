{
  "cells": [
    {
      "cell_type": "markdown",
      "metadata": {
        "id": "view-in-github",
        "colab_type": "text"
      },
      "source": [
        "<a href=\"https://colab.research.google.com/github/loureenvalyne/python-lessons/blob/main/Getting_Started_with_NumPy_arrays.ipynb\" target=\"_parent\"><img src=\"https://colab.research.google.com/assets/colab-badge.svg\" alt=\"Open In Colab\"/></a>"
      ]
    },
    {
      "cell_type": "markdown",
      "metadata": {
        "id": "-iQqBPthcDJo"
      },
      "source": [
        "# Getting Started with NumPy\n",
        "\n",
        "## Introduction\n",
        "\n",
        "NumPy is one of the main libraries for performing scientific computing in Python. Using NumPy, you can create high-performance multi-dimensional arrays, and several tools to work with these arrays.\n",
        "\n",
        "A NumPy array can store a grid of values. All the values must be of the same type. NumPy arrays are n-dimensional, and the number of dimensions is denoted by the *rank* of the NumPy array. The shape of an array is a tuple of integers which holds the size of the array along each of the dimensions.\n",
        "\n",
        "For more information on NumPy, refer to http://www.numpy.org/.\n",
        "\n",
        "\n",
        "## Objectives\n",
        "\n",
        "You will be able to:\n",
        "  \n",
        "- Use broadcasting to perform a math operation on an entire numpy array    \n",
        "- Perform vector and matrix operations with numpy\n",
        "- Access the shape of a numpy array    \n",
        "- Use indexing with numpy arrays    \n",
        "\n",
        "\n",
        "\n",
        "\n",
        "## NumPy array creation and basic operations\n",
        "\n",
        "First, remember that it is customary to import NumPy as `np`."
      ]
    },
    {
      "cell_type": "code",
      "execution_count": 1,
      "metadata": {
        "id": "VSmn9Xc-cDJq"
      },
      "outputs": [],
      "source": [
        "import numpy as np"
      ]
    },
    {
      "cell_type": "markdown",
      "metadata": {
        "id": "KN_CtiOdcDJr"
      },
      "source": [
        "One easy way to create a numpy array is from a Python list. The two are similar in a number of manners but NumPy is optimized in a number of ways for performing mathematical operations, including having a number of built-in methods that will be extraordinarily useful."
      ]
    },
    {
      "cell_type": "code",
      "execution_count": 2,
      "metadata": {
        "id": "jB7592-mcDJr",
        "outputId": "47cb8b8c-7aa6-4699-a6fb-ef7368e14b36",
        "colab": {
          "base_uri": "https://localhost:8080/"
        }
      },
      "outputs": [
        {
          "output_type": "stream",
          "name": "stdout",
          "text": [
            "<class 'numpy.ndarray'>\n"
          ]
        }
      ],
      "source": [
        "x = np.array([1, 2, 3])\n",
        "print(type(x))"
      ]
    },
    {
      "cell_type": "markdown",
      "metadata": {
        "id": "hKhBvW1McDJs"
      },
      "source": [
        "## Broadcasting Mathematical Operations\n",
        "\n",
        "Notice right off the bat how basic mathematical operations will be applied elementwise in a NumPy array versus a literal interpretation with a Python list:"
      ]
    },
    {
      "cell_type": "code",
      "execution_count": 3,
      "metadata": {
        "id": "U--c8B39cDJs",
        "outputId": "a99e828f-fa69-4f2b-c993-89e61f0dafb1",
        "colab": {
          "base_uri": "https://localhost:8080/"
        }
      },
      "outputs": [
        {
          "output_type": "execute_result",
          "data": {
            "text/plain": [
              "array([3, 6, 9])"
            ]
          },
          "metadata": {},
          "execution_count": 3
        }
      ],
      "source": [
        "# Multiplies each element by 3\n",
        "x * 3"
      ]
    },
    {
      "cell_type": "code",
      "execution_count": 4,
      "metadata": {
        "id": "DMI8NLgUcDJs",
        "outputId": "d151dd61-d825-4b0f-c3e8-be85111b7cbd",
        "colab": {
          "base_uri": "https://localhost:8080/"
        }
      },
      "outputs": [
        {
          "output_type": "execute_result",
          "data": {
            "text/plain": [
              "[1, 2, 3, 1, 2, 3, 1, 2, 3]"
            ]
          },
          "metadata": {},
          "execution_count": 4
        }
      ],
      "source": [
        "# Returns the list 3 times\n",
        "[1, 2, 3] * 3"
      ]
    },
    {
      "cell_type": "code",
      "execution_count": 5,
      "metadata": {
        "id": "1TMAM01OcDJs",
        "outputId": "f83b90f1-4729-4704-ebef-df4dc77ccdd5",
        "colab": {
          "base_uri": "https://localhost:8080/"
        }
      },
      "outputs": [
        {
          "output_type": "execute_result",
          "data": {
            "text/plain": [
              "array([3, 4, 5])"
            ]
          },
          "metadata": {},
          "execution_count": 5
        }
      ],
      "source": [
        "# Adds two to each element\n",
        "x + 2"
      ]
    },
    {
      "cell_type": "code",
      "execution_count": 6,
      "metadata": {
        "id": "FysyURPPcDJs",
        "outputId": "89bf13bd-469d-4c4d-c85e-49cc47f51ee7",
        "colab": {
          "base_uri": "https://localhost:8080/",
          "height": 165
        }
      },
      "outputs": [
        {
          "output_type": "error",
          "ename": "TypeError",
          "evalue": "can only concatenate list (not \"int\") to list",
          "traceback": [
            "\u001b[0;31m---------------------------------------------------------------------------\u001b[0m",
            "\u001b[0;31mTypeError\u001b[0m                                 Traceback (most recent call last)",
            "\u001b[0;32m<ipython-input-6-5759e168010e>\u001b[0m in \u001b[0;36m<cell line: 2>\u001b[0;34m()\u001b[0m\n\u001b[1;32m      1\u001b[0m \u001b[0;31m# Returns an error; different data types\u001b[0m\u001b[0;34m\u001b[0m\u001b[0;34m\u001b[0m\u001b[0m\n\u001b[0;32m----> 2\u001b[0;31m \u001b[0;34m[\u001b[0m\u001b[0;36m1\u001b[0m\u001b[0;34m,\u001b[0m \u001b[0;36m2\u001b[0m\u001b[0;34m,\u001b[0m \u001b[0;36m3\u001b[0m\u001b[0;34m]\u001b[0m \u001b[0;34m+\u001b[0m \u001b[0;36m2\u001b[0m\u001b[0;34m\u001b[0m\u001b[0;34m\u001b[0m\u001b[0m\n\u001b[0m",
            "\u001b[0;31mTypeError\u001b[0m: can only concatenate list (not \"int\") to list"
          ]
        }
      ],
      "source": [
        "# Returns an error; different data types\n",
        "[1, 2, 3] + 2"
      ]
    },
    {
      "cell_type": "markdown",
      "metadata": {
        "id": "JQvcSU8OcDJt"
      },
      "source": [
        "## Even more math!"
      ]
    },
    {
      "cell_type": "markdown",
      "metadata": {
        "id": "DlCW7UH2cDJt"
      },
      "source": [
        "### Scalar Math\n",
        "\n",
        "|   |   |\n",
        "|---|---|\n",
        "|`np.add(arr,1)` | Add 1 to each array element  |\n",
        "|`np.subtract(arr,2)`  | Subtract 2 from each array element  |\n",
        "|`np.multiply(arr,3)`  | Multiply each array element by 3 |\n",
        "|`np.divide(arr,4)`    | Divide each array element by 4 (returns `np.nan` for division by zero) |\n",
        "|`np.power(arr,5)`     | Raise each array element to the 5th power |\n",
        "\n",
        "\n",
        "\n",
        "\n",
        "### Vector Math\n",
        "\n",
        "|   |   |\n",
        "|---|---|\n",
        "|`np.add(arr1,arr2)` | Elementwise add arr2 to arr1  |\n",
        "|`np.subtract(arr1,arr2)`  | Elementwise subtract arr2 from arr1  |\n",
        "|`np.multiply(arr1,arr2)`  | Elementwise multiply arr1 by arr2 |\n",
        "|`np.divide(arr1,arr2)`    | Elementwise divide arr1 by arr2 |\n",
        "|`np.power(arr1,arr2)`     | Elementwise raise arr1 raised to the power of arr2 |\n",
        "|`np.array_equal(arr1,arr2)`| Returns True if the arrays have the same elements and shape |\n",
        "|`np.sqrt(arr)`            |  Square root of each element in the array                    |\n",
        "|`np.sin(arr)`             |  Sine of each element in the array                           |\n",
        "|`np.log(arr)`             |  Natural log of each element in the array                    |\n",
        "|`np.abs(arr)`             |  Absolute value of each element in the array                 |\n",
        "|`np.ceil(arr)`            |  Rounds up to the nearest int                                |\n",
        "|`np.floor(arr)`           |  Rounds down to the nearest int                              |\n",
        "|`np.round(arr)`           |  Rounds to the nearest int                                   |"
      ]
    },
    {
      "cell_type": "markdown",
      "metadata": {
        "id": "oA-ySe3dcDJt"
      },
      "source": [
        "### Here's a few more examples from the list above"
      ]
    },
    {
      "cell_type": "code",
      "execution_count": 7,
      "metadata": {
        "id": "8MGsULUccDJt",
        "outputId": "2928401f-7251-420b-cb37-57f4f04976e9",
        "colab": {
          "base_uri": "https://localhost:8080/"
        }
      },
      "outputs": [
        {
          "output_type": "execute_result",
          "data": {
            "text/plain": [
              "[1, 2, 3, 4, 5, 6]"
            ]
          },
          "metadata": {},
          "execution_count": 7
        }
      ],
      "source": [
        "# Adding raw lists is just appending\n",
        "[1, 2, 3] + [4, 5, 6]"
      ]
    },
    {
      "cell_type": "code",
      "execution_count": 8,
      "metadata": {
        "id": "50s3cjwccDJt",
        "outputId": "6a527e67-5ef4-4cb7-90f1-3423252a25ce",
        "colab": {
          "base_uri": "https://localhost:8080/"
        }
      },
      "outputs": [
        {
          "output_type": "execute_result",
          "data": {
            "text/plain": [
              "array([5, 7, 9])"
            ]
          },
          "metadata": {},
          "execution_count": 8
        }
      ],
      "source": [
        "# Adds elements\n",
        "np.array([1, 2, 3]) + np.array([4, 5, 6])"
      ]
    },
    {
      "cell_type": "code",
      "execution_count": 9,
      "metadata": {
        "id": "EEOi3_uJcDJt",
        "outputId": "e40c8fc3-0038-4e11-9a8c-836c1052009a",
        "colab": {
          "base_uri": "https://localhost:8080/"
        }
      },
      "outputs": [
        {
          "output_type": "execute_result",
          "data": {
            "text/plain": [
              "array([5, 7, 9])"
            ]
          },
          "metadata": {},
          "execution_count": 9
        }
      ],
      "source": [
        "# Same as above with built-in method\n",
        "x = np.array([1, 2, 3])\n",
        "y = np.array([4, 5, 6])\n",
        "np.add(x, y)"
      ]
    },
    {
      "cell_type": "markdown",
      "metadata": {
        "id": "EpX7AE60cDJt"
      },
      "source": [
        "## Multidimensional Arrays\n",
        "NumPy arrays are also very useful for storing multidimensional data such as matrices. Notice how NumPy tries to nicely align the elements."
      ]
    },
    {
      "cell_type": "code",
      "execution_count": 10,
      "metadata": {
        "id": "vGbD_Ol-cDJu",
        "outputId": "28105b3b-bfb6-44ff-c0c7-c8cebc61e18a",
        "colab": {
          "base_uri": "https://localhost:8080/"
        }
      },
      "outputs": [
        {
          "output_type": "stream",
          "name": "stdout",
          "text": [
            "<class 'list'>\n"
          ]
        },
        {
          "output_type": "execute_result",
          "data": {
            "text/plain": [
              "[[1, 2], [3, 4]]"
            ]
          },
          "metadata": {},
          "execution_count": 10
        }
      ],
      "source": [
        "# An ordinary nested list\n",
        "y = [[1, 2], [3, 4]]\n",
        "print(type(y))\n",
        "y"
      ]
    },
    {
      "cell_type": "code",
      "execution_count": 11,
      "metadata": {
        "id": "1joVG_97cDJu",
        "outputId": "bff557b0-8eab-45c8-8693-0573d6dd4fe6",
        "colab": {
          "base_uri": "https://localhost:8080/"
        }
      },
      "outputs": [
        {
          "output_type": "stream",
          "name": "stdout",
          "text": [
            "<class 'numpy.ndarray'>\n"
          ]
        },
        {
          "output_type": "execute_result",
          "data": {
            "text/plain": [
              "array([[1, 2],\n",
              "       [3, 4]])"
            ]
          },
          "metadata": {},
          "execution_count": 11
        }
      ],
      "source": [
        "# Reformatted as a NumPy array\n",
        "y = np.array([[1, 2], [3, 4]])\n",
        "print(type(y))\n",
        "y"
      ]
    },
    {
      "cell_type": "markdown",
      "metadata": {
        "id": "AmDRihVfcDJu"
      },
      "source": [
        "## The Shape Attribute\n",
        "One of the most important attributes to understand with this is the shape of a NumPy array."
      ]
    },
    {
      "cell_type": "code",
      "execution_count": 12,
      "metadata": {
        "id": "jtGFidPqcDJu",
        "outputId": "4cc475e8-34f4-45b0-bd26-91a39fb4924b",
        "colab": {
          "base_uri": "https://localhost:8080/"
        }
      },
      "outputs": [
        {
          "output_type": "execute_result",
          "data": {
            "text/plain": [
              "(2, 2)"
            ]
          },
          "metadata": {},
          "execution_count": 12
        }
      ],
      "source": [
        "y.shape"
      ]
    },
    {
      "cell_type": "code",
      "execution_count": 13,
      "metadata": {
        "id": "1KFPg5QEcDJu",
        "outputId": "01d4ae04-a6a1-4322-800b-d3a174bea481",
        "colab": {
          "base_uri": "https://localhost:8080/"
        }
      },
      "outputs": [
        {
          "output_type": "stream",
          "name": "stdout",
          "text": [
            "(2, 3)\n"
          ]
        },
        {
          "output_type": "execute_result",
          "data": {
            "text/plain": [
              "array([[1, 2, 3],\n",
              "       [4, 5, 6]])"
            ]
          },
          "metadata": {},
          "execution_count": 13
        }
      ],
      "source": [
        "y = np.array([[1, 2, 3],[4, 5, 6]])\n",
        "print(y.shape)\n",
        "y"
      ]
    },
    {
      "cell_type": "code",
      "execution_count": 14,
      "metadata": {
        "id": "Nqt9PkJtcDJu",
        "outputId": "0b267abf-49c5-4908-e4da-66f3fc26c07e",
        "colab": {
          "base_uri": "https://localhost:8080/"
        }
      },
      "outputs": [
        {
          "output_type": "stream",
          "name": "stdout",
          "text": [
            "(3, 2)\n"
          ]
        },
        {
          "output_type": "execute_result",
          "data": {
            "text/plain": [
              "array([[1, 2],\n",
              "       [3, 4],\n",
              "       [5, 6]])"
            ]
          },
          "metadata": {},
          "execution_count": 14
        }
      ],
      "source": [
        "y = np.array([[1, 2],[3, 4],[5, 6]])\n",
        "print(y.shape)\n",
        "y"
      ]
    },
    {
      "cell_type": "markdown",
      "metadata": {
        "id": "sxhkFufncDJu"
      },
      "source": [
        "### We can also have higher dimensional data such as working with 3 dimensional data\n",
        "<img src=\"https://curriculum-content.s3.amazonaws.com/data-science/images/Image_195_3D array.png\" width=500>"
      ]
    },
    {
      "cell_type": "code",
      "execution_count": 15,
      "metadata": {
        "id": "S6ZCwnOicDJu",
        "outputId": "56ccdd3f-1c58-46a7-ca95-05b28f2a296f",
        "colab": {
          "base_uri": "https://localhost:8080/"
        }
      },
      "outputs": [
        {
          "output_type": "stream",
          "name": "stdout",
          "text": [
            "(2, 3, 2)\n"
          ]
        },
        {
          "output_type": "execute_result",
          "data": {
            "text/plain": [
              "array([[[1, 2],\n",
              "        [3, 4],\n",
              "        [5, 6]],\n",
              "\n",
              "       [[1, 2],\n",
              "        [3, 4],\n",
              "        [5, 6]]])"
            ]
          },
          "metadata": {},
          "execution_count": 15
        }
      ],
      "source": [
        "y = np.array([[[1, 2],[3, 4],[5, 6]],\n",
        "             [[1, 2],[3, 4],[5, 6]]\n",
        "             ])\n",
        "print(y.shape)\n",
        "y"
      ]
    },
    {
      "cell_type": "markdown",
      "metadata": {
        "id": "1x16Nvd6cDJu"
      },
      "source": [
        "## Built-in Methods for Creating Arrays\n",
        "NumPy also has several built-in methods for creating arrays that are useful in practice. These methods are particularly useful:\n",
        "* `np.zeros(shape)`\n",
        "* `np.ones(shape)`\n",
        "* `np.full(shape, fill)`"
      ]
    },
    {
      "cell_type": "code",
      "execution_count": 16,
      "metadata": {
        "id": "cSwO-OagcDJu",
        "outputId": "abb5fc03-9153-4701-892f-44e2445bab9f",
        "colab": {
          "base_uri": "https://localhost:8080/"
        }
      },
      "outputs": [
        {
          "output_type": "execute_result",
          "data": {
            "text/plain": [
              "array([0., 0., 0., 0., 0.])"
            ]
          },
          "metadata": {},
          "execution_count": 16
        }
      ],
      "source": [
        "# One dimensional; 5 elements\n",
        "np.zeros(5)"
      ]
    },
    {
      "cell_type": "code",
      "execution_count": 17,
      "metadata": {
        "id": "-Jah_eaDcDJv",
        "outputId": "1ab3d1cd-bad7-447c-9888-ec06589455b8",
        "colab": {
          "base_uri": "https://localhost:8080/"
        }
      },
      "outputs": [
        {
          "output_type": "execute_result",
          "data": {
            "text/plain": [
              "array([[0., 0.],\n",
              "       [0., 0.]])"
            ]
          },
          "metadata": {},
          "execution_count": 17
        }
      ],
      "source": [
        "# Two dimensional; 2x2 matrix\n",
        "np.zeros([2, 2])"
      ]
    },
    {
      "cell_type": "code",
      "execution_count": 18,
      "metadata": {
        "id": "-S7rxrshcDJv",
        "outputId": "005feee4-29c4-43bc-f4b1-6bdf7b81bb3d",
        "colab": {
          "base_uri": "https://localhost:8080/"
        }
      },
      "outputs": [
        {
          "output_type": "execute_result",
          "data": {
            "text/plain": [
              "array([[0., 0., 0., 0., 0.],\n",
              "       [0., 0., 0., 0., 0.],\n",
              "       [0., 0., 0., 0., 0.]])"
            ]
          },
          "metadata": {},
          "execution_count": 18
        }
      ],
      "source": [
        "# 2 dimensional;  3x5 matrix\n",
        "np.zeros([3, 5])"
      ]
    },
    {
      "cell_type": "code",
      "execution_count": 19,
      "metadata": {
        "id": "bCuLGKiKcDJv",
        "outputId": "fffa6052-463d-472a-c9f8-aad18a674d19",
        "colab": {
          "base_uri": "https://localhost:8080/"
        }
      },
      "outputs": [
        {
          "output_type": "execute_result",
          "data": {
            "text/plain": [
              "array([[[0., 0., 0., 0., 0.],\n",
              "        [0., 0., 0., 0., 0.],\n",
              "        [0., 0., 0., 0., 0.],\n",
              "        [0., 0., 0., 0., 0.]],\n",
              "\n",
              "       [[0., 0., 0., 0., 0.],\n",
              "        [0., 0., 0., 0., 0.],\n",
              "        [0., 0., 0., 0., 0.],\n",
              "        [0., 0., 0., 0., 0.]],\n",
              "\n",
              "       [[0., 0., 0., 0., 0.],\n",
              "        [0., 0., 0., 0., 0.],\n",
              "        [0., 0., 0., 0., 0.],\n",
              "        [0., 0., 0., 0., 0.]]])"
            ]
          },
          "metadata": {},
          "execution_count": 19
        }
      ],
      "source": [
        "# 3 dimensional; 3 4x5 matrices\n",
        "np.zeros([3, 4, 5])"
      ]
    },
    {
      "cell_type": "markdown",
      "metadata": {
        "id": "Waw-nOkucDJv"
      },
      "source": [
        "### Similarly the `np.ones()` method returns an array of ones"
      ]
    },
    {
      "cell_type": "code",
      "execution_count": 20,
      "metadata": {
        "id": "Hxqd6KE2cDJv",
        "outputId": "e7bf2b6f-df8b-413d-b2eb-836bc3d7233d",
        "colab": {
          "base_uri": "https://localhost:8080/"
        }
      },
      "outputs": [
        {
          "output_type": "execute_result",
          "data": {
            "text/plain": [
              "array([1., 1., 1., 1., 1.])"
            ]
          },
          "metadata": {},
          "execution_count": 20
        }
      ],
      "source": [
        "np.ones(5)"
      ]
    },
    {
      "cell_type": "code",
      "execution_count": 21,
      "metadata": {
        "id": "oLKBu4_0cDJv",
        "outputId": "7864ab1d-a5e2-4c34-b8bf-86e8dfa26503",
        "colab": {
          "base_uri": "https://localhost:8080/"
        }
      },
      "outputs": [
        {
          "output_type": "execute_result",
          "data": {
            "text/plain": [
              "array([[1., 1., 1., 1.],\n",
              "       [1., 1., 1., 1.],\n",
              "       [1., 1., 1., 1.]])"
            ]
          },
          "metadata": {},
          "execution_count": 21
        }
      ],
      "source": [
        "np.ones([3, 4])"
      ]
    },
    {
      "cell_type": "markdown",
      "metadata": {
        "id": "F1X3HyjMcDJv"
      },
      "source": [
        "### The `np.full()` method allows you to create an array of arbitrary values"
      ]
    },
    {
      "cell_type": "code",
      "execution_count": 22,
      "metadata": {
        "id": "XsLKYdBfcDJv",
        "outputId": "198d2ddc-76c0-4a51-ae19-0802a1f0ccc7",
        "colab": {
          "base_uri": "https://localhost:8080/"
        }
      },
      "outputs": [
        {
          "output_type": "execute_result",
          "data": {
            "text/plain": [
              "array([3, 3, 3, 3, 3])"
            ]
          },
          "metadata": {},
          "execution_count": 22
        }
      ],
      "source": [
        "# Create a 1d array with 5 elements, all of which are 3\n",
        "np.full(5, 3)"
      ]
    },
    {
      "cell_type": "code",
      "execution_count": 23,
      "metadata": {
        "id": "T0stlKpicDJv",
        "outputId": "b66e8bc4-7bd8-40e2-ea9a-d9135990c271",
        "colab": {
          "base_uri": "https://localhost:8080/"
        }
      },
      "outputs": [
        {
          "output_type": "execute_result",
          "data": {
            "text/plain": [
              "array([0, 1, 2, 3, 4])"
            ]
          },
          "metadata": {},
          "execution_count": 23
        }
      ],
      "source": [
        "# Create a 1d array with 5 elements, filling them with the values 0 to 4\n",
        "np.full(5, range(5))"
      ]
    },
    {
      "cell_type": "code",
      "execution_count": 24,
      "metadata": {
        "id": "hCrAcOF-cDJv",
        "outputId": "c817448f-4ba1-4f4f-82b9-1df322d8656d",
        "colab": {
          "base_uri": "https://localhost:8080/",
          "height": 293
        }
      },
      "outputs": [
        {
          "output_type": "error",
          "ename": "ValueError",
          "evalue": "could not broadcast input array from shape (10,) into shape (2,5)",
          "traceback": [
            "\u001b[0;31m---------------------------------------------------------------------------\u001b[0m",
            "\u001b[0;31mValueError\u001b[0m                                Traceback (most recent call last)",
            "\u001b[0;32m<ipython-input-24-ea647ac42aad>\u001b[0m in \u001b[0;36m<cell line: 2>\u001b[0;34m()\u001b[0m\n\u001b[1;32m      1\u001b[0m \u001b[0;31m# Sadly this trick won't work for multidimensional arrays\u001b[0m\u001b[0;34m\u001b[0m\u001b[0;34m\u001b[0m\u001b[0m\n\u001b[0;32m----> 2\u001b[0;31m \u001b[0mnp\u001b[0m\u001b[0;34m.\u001b[0m\u001b[0mfull\u001b[0m\u001b[0;34m(\u001b[0m\u001b[0;34m[\u001b[0m\u001b[0;36m2\u001b[0m\u001b[0;34m,\u001b[0m \u001b[0;36m5\u001b[0m\u001b[0;34m]\u001b[0m\u001b[0;34m,\u001b[0m \u001b[0mrange\u001b[0m\u001b[0;34m(\u001b[0m\u001b[0;36m10\u001b[0m\u001b[0;34m)\u001b[0m\u001b[0;34m)\u001b[0m\u001b[0;34m\u001b[0m\u001b[0;34m\u001b[0m\u001b[0m\n\u001b[0m",
            "\u001b[0;32m/usr/local/lib/python3.10/dist-packages/numpy/core/numeric.py\u001b[0m in \u001b[0;36mfull\u001b[0;34m(shape, fill_value, dtype, order, like)\u001b[0m\n\u001b[1;32m    328\u001b[0m         \u001b[0mdtype\u001b[0m \u001b[0;34m=\u001b[0m \u001b[0mfill_value\u001b[0m\u001b[0;34m.\u001b[0m\u001b[0mdtype\u001b[0m\u001b[0;34m\u001b[0m\u001b[0;34m\u001b[0m\u001b[0m\n\u001b[1;32m    329\u001b[0m     \u001b[0ma\u001b[0m \u001b[0;34m=\u001b[0m \u001b[0mempty\u001b[0m\u001b[0;34m(\u001b[0m\u001b[0mshape\u001b[0m\u001b[0;34m,\u001b[0m \u001b[0mdtype\u001b[0m\u001b[0;34m,\u001b[0m \u001b[0morder\u001b[0m\u001b[0;34m)\u001b[0m\u001b[0;34m\u001b[0m\u001b[0;34m\u001b[0m\u001b[0m\n\u001b[0;32m--> 330\u001b[0;31m     \u001b[0mmultiarray\u001b[0m\u001b[0;34m.\u001b[0m\u001b[0mcopyto\u001b[0m\u001b[0;34m(\u001b[0m\u001b[0ma\u001b[0m\u001b[0;34m,\u001b[0m \u001b[0mfill_value\u001b[0m\u001b[0;34m,\u001b[0m \u001b[0mcasting\u001b[0m\u001b[0;34m=\u001b[0m\u001b[0;34m'unsafe'\u001b[0m\u001b[0;34m)\u001b[0m\u001b[0;34m\u001b[0m\u001b[0;34m\u001b[0m\u001b[0m\n\u001b[0m\u001b[1;32m    331\u001b[0m     \u001b[0;32mreturn\u001b[0m \u001b[0ma\u001b[0m\u001b[0;34m\u001b[0m\u001b[0;34m\u001b[0m\u001b[0m\n\u001b[1;32m    332\u001b[0m \u001b[0;34m\u001b[0m\u001b[0m\n",
            "\u001b[0;31mValueError\u001b[0m: could not broadcast input array from shape (10,) into shape (2,5)"
          ]
        }
      ],
      "source": [
        "# Sadly this trick won't work for multidimensional arrays\n",
        "np.full([2, 5], range(10))"
      ]
    },
    {
      "cell_type": "code",
      "execution_count": 25,
      "metadata": {
        "id": "aoAMsPLFcDJv",
        "outputId": "9d504910-a01b-4e10-e6cf-100bbc77fad3",
        "colab": {
          "base_uri": "https://localhost:8080/"
        }
      },
      "outputs": [
        {
          "output_type": "execute_result",
          "data": {
            "text/plain": [
              "array([[3.14159265, 3.14159265, 3.14159265, 3.14159265, 3.14159265],\n",
              "       [3.14159265, 3.14159265, 3.14159265, 3.14159265, 3.14159265]])"
            ]
          },
          "metadata": {},
          "execution_count": 25
        }
      ],
      "source": [
        "# NumPy also has useful built-in mathematical numbers\n",
        "np.full([2, 5], np.pi)"
      ]
    },
    {
      "cell_type": "markdown",
      "metadata": {
        "id": "IPg608qvcDJv"
      },
      "source": [
        "## Numpy array subsetting"
      ]
    },
    {
      "cell_type": "markdown",
      "metadata": {
        "id": "mWV_9LuicDJv"
      },
      "source": [
        "You can subset NumPy arrays very similarly to list slicing in python."
      ]
    },
    {
      "cell_type": "code",
      "execution_count": 26,
      "metadata": {
        "id": "7uZFdafJcDJ5",
        "outputId": "0f6891cb-c04a-4554-a4b2-6a28b4332028",
        "colab": {
          "base_uri": "https://localhost:8080/"
        }
      },
      "outputs": [
        {
          "output_type": "stream",
          "name": "stdout",
          "text": [
            "(4, 3)\n"
          ]
        },
        {
          "output_type": "execute_result",
          "data": {
            "text/plain": [
              "array([[ 1,  2,  3],\n",
              "       [ 4,  5,  6],\n",
              "       [ 7,  8,  9],\n",
              "       [10, 11, 12]])"
            ]
          },
          "metadata": {},
          "execution_count": 26
        }
      ],
      "source": [
        "x = np.array([[1, 2, 3], [4, 5, 6], [7, 8, 9], [10, 11, 12]])\n",
        "print(x.shape)\n",
        "x"
      ]
    },
    {
      "cell_type": "code",
      "execution_count": 27,
      "metadata": {
        "id": "3VSsSCW3cDJ5",
        "outputId": "30480651-3784-446f-b3a3-72f97cd288ef",
        "colab": {
          "base_uri": "https://localhost:8080/"
        }
      },
      "outputs": [
        {
          "output_type": "execute_result",
          "data": {
            "text/plain": [
              "array([1, 2, 3])"
            ]
          },
          "metadata": {},
          "execution_count": 27
        }
      ],
      "source": [
        "# Retrieving the first row\n",
        "x[0]"
      ]
    },
    {
      "cell_type": "code",
      "execution_count": 28,
      "metadata": {
        "id": "jSrZiBQQcDJ5",
        "outputId": "dad4e505-75df-4fab-db32-a8f18e3cb5a9",
        "colab": {
          "base_uri": "https://localhost:8080/"
        }
      },
      "outputs": [
        {
          "output_type": "execute_result",
          "data": {
            "text/plain": [
              "array([[ 4,  5,  6],\n",
              "       [ 7,  8,  9],\n",
              "       [10, 11, 12]])"
            ]
          },
          "metadata": {},
          "execution_count": 28
        }
      ],
      "source": [
        "# Retrieving all rows after the first row\n",
        "x[1:]"
      ]
    },
    {
      "cell_type": "markdown",
      "metadata": {
        "id": "ZK5i-vf0cDJ5"
      },
      "source": [
        "### This becomes particularly useful in multidimensional arrays when we can slice on multiple dimensions"
      ]
    },
    {
      "cell_type": "code",
      "execution_count": 29,
      "metadata": {
        "id": "oqpsDE18cDJ5",
        "outputId": "7d106d61-1c7c-4c47-ee8a-ec797c563724",
        "colab": {
          "base_uri": "https://localhost:8080/"
        }
      },
      "outputs": [
        {
          "output_type": "execute_result",
          "data": {
            "text/plain": [
              "array([ 1,  4,  7, 10])"
            ]
          },
          "metadata": {},
          "execution_count": 29
        }
      ],
      "source": [
        "# All rows, column 0\n",
        "x[:,0]"
      ]
    },
    {
      "cell_type": "code",
      "execution_count": 30,
      "metadata": {
        "id": "I_3vG4OycDJ5",
        "outputId": "e13578d7-575b-4cba-bcc0-289079223d1a",
        "colab": {
          "base_uri": "https://localhost:8080/"
        }
      },
      "outputs": [
        {
          "output_type": "execute_result",
          "data": {
            "text/plain": [
              "array([[ 8,  9],\n",
              "       [11, 12]])"
            ]
          },
          "metadata": {},
          "execution_count": 30
        }
      ],
      "source": [
        "# Rows 2 through 4, columns 1 through 3\n",
        "x[2:4,1:3]"
      ]
    },
    {
      "cell_type": "markdown",
      "metadata": {
        "id": "dnhiKnKMcDJ5"
      },
      "source": [
        "### Notice that you can't slice in multiple dimensions naturally with built-in lists"
      ]
    },
    {
      "cell_type": "code",
      "execution_count": 31,
      "metadata": {
        "id": "eHf_agTncDJ5",
        "outputId": "962b6f0a-7d60-4adf-a388-f33538a79991",
        "colab": {
          "base_uri": "https://localhost:8080/"
        }
      },
      "outputs": [
        {
          "output_type": "execute_result",
          "data": {
            "text/plain": [
              "[[1, 2, 3], [4, 5, 6], [7, 8, 9], [10, 11, 12]]"
            ]
          },
          "metadata": {},
          "execution_count": 31
        }
      ],
      "source": [
        "x = [[1, 2, 3], [4, 5, 6], [7, 8, 9], [10, 11, 12]]\n",
        "x"
      ]
    },
    {
      "cell_type": "code",
      "execution_count": 32,
      "metadata": {
        "id": "MAUGBLw7cDJ5",
        "outputId": "f8796ce6-9a6a-4778-a1b9-0b1b6e64661e",
        "colab": {
          "base_uri": "https://localhost:8080/"
        }
      },
      "outputs": [
        {
          "output_type": "execute_result",
          "data": {
            "text/plain": [
              "[1, 2, 3]"
            ]
          },
          "metadata": {},
          "execution_count": 32
        }
      ],
      "source": [
        "x[0]"
      ]
    },
    {
      "cell_type": "code",
      "execution_count": 33,
      "metadata": {
        "id": "bQ9HeqB3cDJ5",
        "outputId": "37a815f9-5be1-4ce2-e802-decab6178758",
        "colab": {
          "base_uri": "https://localhost:8080/",
          "height": 147
        }
      },
      "outputs": [
        {
          "output_type": "error",
          "ename": "TypeError",
          "evalue": "list indices must be integers or slices, not tuple",
          "traceback": [
            "\u001b[0;31m---------------------------------------------------------------------------\u001b[0m",
            "\u001b[0;31mTypeError\u001b[0m                                 Traceback (most recent call last)",
            "\u001b[0;32m<ipython-input-33-879a04ce8a40>\u001b[0m in \u001b[0;36m<cell line: 1>\u001b[0;34m()\u001b[0m\n\u001b[0;32m----> 1\u001b[0;31m \u001b[0mx\u001b[0m\u001b[0;34m[\u001b[0m\u001b[0;34m:\u001b[0m\u001b[0;34m,\u001b[0m\u001b[0;36m0\u001b[0m\u001b[0;34m]\u001b[0m\u001b[0;34m\u001b[0m\u001b[0;34m\u001b[0m\u001b[0m\n\u001b[0m",
            "\u001b[0;31mTypeError\u001b[0m: list indices must be integers or slices, not tuple"
          ]
        }
      ],
      "source": [
        "x[:,0]"
      ]
    },
    {
      "cell_type": "code",
      "execution_count": 34,
      "metadata": {
        "id": "Ed_t32oEcDJ5",
        "outputId": "fc1532fe-4fe8-468b-b098-e28757565e0c",
        "colab": {
          "base_uri": "https://localhost:8080/"
        }
      },
      "outputs": [
        {
          "output_type": "execute_result",
          "data": {
            "text/plain": [
              "[1, 4, 7, 10]"
            ]
          },
          "metadata": {},
          "execution_count": 34
        }
      ],
      "source": [
        "# To slice along a second dimension with lists we must verbosely use a list comprehension\n",
        "[i[0] for i in x]"
      ]
    },
    {
      "cell_type": "code",
      "execution_count": 35,
      "metadata": {
        "id": "8zskLmdmcDJ5",
        "outputId": "3c851b3a-0772-4d21-f517-4fee1e4da29a",
        "colab": {
          "base_uri": "https://localhost:8080/"
        }
      },
      "outputs": [
        {
          "output_type": "execute_result",
          "data": {
            "text/plain": [
              "[[8, 9], [11, 12]]"
            ]
          },
          "metadata": {},
          "execution_count": 35
        }
      ],
      "source": [
        "# Doing this in multiple dimensions with lists\n",
        "[i[1:3] for i in x[2:4]]"
      ]
    },
    {
      "cell_type": "markdown",
      "metadata": {
        "id": "v_PkJI_ocDJ5"
      },
      "source": [
        "### 3D Slicing"
      ]
    },
    {
      "cell_type": "code",
      "execution_count": 36,
      "metadata": {
        "id": "0GNinPlGcDJ5",
        "outputId": "11c63f64-6652-4503-cabc-eac574339c2b",
        "colab": {
          "base_uri": "https://localhost:8080/"
        }
      },
      "outputs": [
        {
          "output_type": "execute_result",
          "data": {
            "text/plain": [
              "array([[[ 1,  2,  3],\n",
              "        [ 4,  5,  6]],\n",
              "\n",
              "       [[ 7,  8,  9],\n",
              "        [10, 11, 12]]])"
            ]
          },
          "metadata": {},
          "execution_count": 36
        }
      ],
      "source": [
        "# With an array\n",
        "x = np.array([\n",
        "              [[1,2,3], [4,5,6]],\n",
        "              [[7,8,9], [10,11,12]]\n",
        "             ])\n",
        "x"
      ]
    },
    {
      "cell_type": "code",
      "execution_count": 37,
      "metadata": {
        "id": "xo4kltUIcDJ6",
        "outputId": "799a357f-071e-4877-ad27-61000e7ce4b0",
        "colab": {
          "base_uri": "https://localhost:8080/"
        }
      },
      "outputs": [
        {
          "output_type": "execute_result",
          "data": {
            "text/plain": [
              "(2, 2, 3)"
            ]
          },
          "metadata": {},
          "execution_count": 37
        }
      ],
      "source": [
        "x.shape"
      ]
    },
    {
      "cell_type": "code",
      "execution_count": 38,
      "metadata": {
        "id": "l3_cfsZEcDJ6",
        "outputId": "2ad310ed-c62f-4c1b-9e92-1faadde36d3e",
        "colab": {
          "base_uri": "https://localhost:8080/"
        }
      },
      "outputs": [
        {
          "output_type": "execute_result",
          "data": {
            "text/plain": [
              "array([[ 3,  6],\n",
              "       [ 9, 12]])"
            ]
          },
          "metadata": {},
          "execution_count": 38
        }
      ],
      "source": [
        "x[:,:,-1]"
      ]
    },
    {
      "cell_type": "markdown",
      "metadata": {
        "id": "RkmLwxR_cDJ6"
      },
      "source": [
        "## Summary\n",
        "\n",
        "Great! You learned about a bunch of NumPy commands. Now, let's move over to the lab to put your new skills into practice!"
      ]
    }
  ],
  "metadata": {
    "kernelspec": {
      "display_name": "Python 3",
      "language": "python",
      "name": "python3"
    },
    "language_info": {
      "codemirror_mode": {
        "name": "ipython",
        "version": 3
      },
      "file_extension": ".py",
      "mimetype": "text/x-python",
      "name": "python",
      "nbconvert_exporter": "python",
      "pygments_lexer": "ipython3",
      "version": "3.7.3"
    },
    "colab": {
      "provenance": [],
      "name": "Getting Started with NumPy-arrays.ipynb",
      "include_colab_link": true
    }
  },
  "nbformat": 4,
  "nbformat_minor": 0
}