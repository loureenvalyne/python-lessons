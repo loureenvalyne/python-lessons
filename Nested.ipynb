{
  "cells": [
    {
      "cell_type": "markdown",
      "metadata": {
        "id": "view-in-github",
        "colab_type": "text"
      },
      "source": [
        "<a href=\"https://colab.research.google.com/github/loureenvalyne/python-lessons/blob/main/Nested.ipynb\" target=\"_parent\"><img src=\"https://colab.research.google.com/assets/colab-badge.svg\" alt=\"Open In Colab\"/></a>"
      ]
    },
    {
      "cell_type": "markdown",
      "metadata": {
        "id": "ri6IV5NGYNCp"
      },
      "source": [
        "# Using Nested Loops - Lab"
      ]
    },
    {
      "cell_type": "markdown",
      "metadata": {
        "id": "bTTQiVmBYNCr"
      },
      "source": [
        "## Introduction\n",
        "In this lab, you'll practice using nested loops to iterate over nested data structures and create new collections. To do this, you'll be using data from a soccer match to practice our nested loops."
      ]
    },
    {
      "cell_type": "markdown",
      "metadata": {
        "id": "W5Mrs7ezYNCr"
      },
      "source": [
        "## Objectives\n",
        "\n",
        "You will be able to:\n",
        "\n",
        "* Use a nested loop when it is appropriate"
      ]
    },
    {
      "cell_type": "markdown",
      "metadata": {
        "id": "bzqIxl5IYNCs"
      },
      "source": [
        "## Instructions"
      ]
    },
    {
      "cell_type": "markdown",
      "metadata": {
        "id": "8oSwMc42YNCs"
      },
      "source": [
        "Use nested loops and the below object, `soccer_match`, to complete the following prompts and get the desired return values."
      ]
    },
    {
      "cell_type": "code",
      "execution_count": 1,
      "metadata": {
        "id": "nTvz3oziYNCs"
      },
      "outputs": [],
      "source": [
        "# Run this cell without changes\n",
        "soccer_match = [\n",
        "  { \"home_team\": True,\n",
        "    \"away_team\": False,\n",
        "    \"country\": \"France\",\n",
        "    \"num_passes\": 484,\n",
        "    \"passes_completed\": 423,\n",
        "    \"fouls_committed\": 16,\n",
        "    \"colors\": [\"blue\", \"white\", \"red\"],\n",
        "    \"players\": [\n",
        "      {\n",
        "        \"name\": \"Hugo LLORIS\",\n",
        "        \"captain\": True,\n",
        "        \"shirt_number\": 1,\n",
        "        \"position\": \"Goalie\"\n",
        "      },\n",
        "      {\n",
        "        \"name\": \"Benjamin PAVARD\",\n",
        "        \"captain\": False,\n",
        "        \"shirt_number\": 2,\n",
        "        \"position\": \"Defender\"\n",
        "      },\n",
        "      {\n",
        "        \"name\": \"Raphael VARANE\",\n",
        "        \"captain\": False,\n",
        "        \"shirt_number\": 4,\n",
        "        \"position\": \"Defender\"\n",
        "      },\n",
        "      {\n",
        "        \"name\": \"Samuel UMTITI\",\n",
        "        \"captain\": False,\n",
        "        \"shirt_number\": 5,\n",
        "        \"position\": \"Defender\"\n",
        "      },\n",
        "      {\n",
        "        \"name\": \"Paul POGBA\",\n",
        "        \"captain\": False,\n",
        "        \"shirt_number\": 6,\n",
        "        \"position\": \"Midfield\"\n",
        "      },\n",
        "      {\n",
        "        \"name\": \"Antoine GRIEZMANN\",\n",
        "        \"captain\": False,\n",
        "        \"shirt_number\": 7,\n",
        "        \"position\": \"Forward\"\n",
        "      },\n",
        "      {\n",
        "        \"name\": \"Kylian MBAPPE\",\n",
        "        \"captain\": False,\n",
        "        \"shirt_number\": 10,\n",
        "        \"position\": \"Forward\"\n",
        "      },\n",
        "      {\n",
        "        \"name\": \"Ousmane DEMBELE\",\n",
        "        \"captain\": False,\n",
        "        \"shirt_number\": 11,\n",
        "        \"position\": \"Forward\"\n",
        "      },\n",
        "      {\n",
        "        \"name\": \"Corentin TOLISSO\",\n",
        "        \"captain\": False,\n",
        "        \"shirt_number\": 12,\n",
        "        \"position\": \"Midfield\"\n",
        "      },\n",
        "      {\n",
        "        \"name\": \"Ngolo KANTE\",\n",
        "        \"captain\": False,\n",
        "        \"shirt_number\": 13,\n",
        "        \"position\": \"Midfield\"\n",
        "      },\n",
        "      {\n",
        "        \"name\": \"Lucas HERNANDEZ\",\n",
        "        \"captain\": False,\n",
        "        \"shirt_number\": 21,\n",
        "        \"position\": \"Defender\"\n",
        "      }\n",
        "    ],\n",
        "  },\n",
        "  { \"home_team\": False,\n",
        "    \"away_team\": True,\n",
        "    \"country\": \"Australia\",\n",
        "    \"num_passes\": 390,\n",
        "    \"passes_completed\": 332,\n",
        "    \"fouls_committed\": 19,\n",
        "    \"colors\": [\"green\", \"gold\"],\n",
        "    \"players\": [\n",
        "      {\n",
        "        \"name\": \"Mathew RYAN\",\n",
        "        \"captain\": False,\n",
        "        \"shirt_number\": 1,\n",
        "        \"position\": \"Goalie\"\n",
        "      },\n",
        "      {\n",
        "        \"name\": \"Mark MILLIGAN\",\n",
        "        \"captain\": False,\n",
        "        \"shirt_number\": 5,\n",
        "        \"position\": \"Defender\"\n",
        "      },\n",
        "      {\n",
        "        \"name\": \"Mathew LECKIE\",\n",
        "        \"captain\": False,\n",
        "        \"shirt_number\": 7,\n",
        "        \"position\": \"Forward\"\n",
        "      },\n",
        "      {\n",
        "        \"name\": \"Robbie KRUSE\",\n",
        "        \"captain\": False,\n",
        "        \"shirt_number\": 10,\n",
        "        \"position\": \"Forward\"\n",
        "      },\n",
        "      {\n",
        "        \"name\": \"Andrew NABBOUT\",\n",
        "        \"captain\": False,\n",
        "        \"shirt_number\": 11,\n",
        "        \"position\": \"Forward\"\n",
        "      },\n",
        "      {\n",
        "        \"name\": \"Aaron MOOY\",\n",
        "        \"captain\": False,\n",
        "        \"shirt_number\": 13,\n",
        "        \"position\": \"Midfield\"\n",
        "      },\n",
        "      {\n",
        "        \"name\": \"Mile JEDINAK\",\n",
        "        \"captain\": True,\n",
        "        \"shirt_number\": 15,\n",
        "        \"position\": \"Midfield\"\n",
        "      },\n",
        "      {\n",
        "        \"name\": \"Aziz BEHICH\",\n",
        "        \"captain\": False,\n",
        "        \"shirt_number\": 16,\n",
        "        \"position\": \"Defender\"\n",
        "      },\n",
        "      {\n",
        "        \"name\": \"Joshua RISDON\",\n",
        "        \"captain\": False,\n",
        "        \"shirt_number\": 19,\n",
        "        \"position\": \"Defender\"\n",
        "      },\n",
        "      {\n",
        "        \"name\": \"Trent SAINSBURY\",\n",
        "        \"captain\": False,\n",
        "        \"shirt_number\": 20,\n",
        "        \"position\": \"Defender\"\n",
        "      },\n",
        "      {\n",
        "        \"name\": \"Tom ROGIC\",\n",
        "        \"captain\": False,\n",
        "        \"shirt_number\": 23,\n",
        "        \"position\": \"Midfield\"\n",
        "      }\n",
        "    ]\n",
        "  }\n",
        "]"
      ]
    },
    {
      "cell_type": "markdown",
      "metadata": {
        "id": "lTdJMbKfYNCt"
      },
      "source": [
        "Let's take a look at some properties of this nested data structure:"
      ]
    },
    {
      "cell_type": "code",
      "execution_count": 2,
      "metadata": {
        "id": "q0HQUkGCYNCt",
        "outputId": "36b21df8-1a39-4b90-a994-b79ae057934c",
        "colab": {
          "base_uri": "https://localhost:8080/"
        }
      },
      "outputs": [
        {
          "output_type": "stream",
          "name": "stdout",
          "text": [
            "Information about soccer_match\n",
            "Type: <class 'list'>\n",
            "Length: 2\n",
            "\n",
            "Information about soccer_match[0]:\n",
            "Type: <class 'dict'>\n",
            "Length: 8\n",
            "Keys: dict_keys(['home_team', 'away_team', 'country', 'num_passes', 'passes_completed', 'fouls_committed', 'colors', 'players'])\n",
            "Values: dict_values([False, True, 'Australia', 390, 332, 19, ['green', 'gold'], [{'name': 'Mathew RYAN', 'captain': False, 'shirt_number': 1, 'position': 'Goalie'}, {'name': 'Mark MILLIGAN', 'captain': False, 'shirt_number': 5, 'position': 'Defender'}, {'name': 'Mathew LECKIE', 'captain': False, 'shirt_number': 7, 'position': 'Forward'}, {'name': 'Robbie KRUSE', 'captain': False, 'shirt_number': 10, 'position': 'Forward'}, {'name': 'Andrew NABBOUT', 'captain': False, 'shirt_number': 11, 'position': 'Forward'}, {'name': 'Aaron MOOY', 'captain': False, 'shirt_number': 13, 'position': 'Midfield'}, {'name': 'Mile JEDINAK', 'captain': True, 'shirt_number': 15, 'position': 'Midfield'}, {'name': 'Aziz BEHICH', 'captain': False, 'shirt_number': 16, 'position': 'Defender'}, {'name': 'Joshua RISDON', 'captain': False, 'shirt_number': 19, 'position': 'Defender'}, {'name': 'Trent SAINSBURY', 'captain': False, 'shirt_number': 20, 'position': 'Defender'}, {'name': 'Tom ROGIC', 'captain': False, 'shirt_number': 23, 'position': 'Midfield'}]])\n"
          ]
        }
      ],
      "source": [
        "# Run this cell without changes\n",
        "\n",
        "print(\"Information about soccer_match\")\n",
        "print(\"Type:\", type(soccer_match))\n",
        "print(\"Length:\", len(soccer_match))\n",
        "print()\n",
        "\n",
        "print(\"Information about soccer_match[0]:\")\n",
        "print(\"Type:\", type(soccer_match[0]))\n",
        "print(\"Length:\", len(soccer_match[0]))\n",
        "print(\"Keys:\", soccer_match[0].keys())\n",
        "print(\"Values:\", soccer_match[1].values())"
      ]
    },
    {
      "cell_type": "markdown",
      "metadata": {
        "id": "ZUBHyk7qYNCt"
      },
      "source": [
        "Before looking at the answer below, try to identify: **what does `soccer_match` represent overall, and what does each record within `soccer_match` represent?**\n",
        "\n",
        ".\n",
        "\n",
        ".\n",
        "\n",
        ".\n",
        "\n",
        "*`soccer_match` represents a soccer match (game) containing a home team and an away team. Each record within `soccer_match` represents a team that participated in the match, and their associated stats.*"
      ]
    },
    {
      "cell_type": "markdown",
      "metadata": {
        "id": "Iob6rEhsYNCu"
      },
      "source": [
        "## Countries: A List of Strings\n",
        "\n",
        "In the cell below, iterate over the `soccer_match` list to create a new list with the name of the country for each team."
      ]
    },
    {
      "cell_type": "code",
      "execution_count": 4,
      "metadata": {
        "id": "FIx_wxCYYNCu",
        "outputId": "e942ee81-b63e-4858-bbc4-25b633504c4c",
        "colab": {
          "base_uri": "https://localhost:8080/"
        }
      },
      "outputs": [
        {
          "output_type": "stream",
          "name": "stdout",
          "text": [
            "['France', 'Australia']\n"
          ]
        }
      ],
      "source": [
        "# Create an empty list to store the country names\n",
        "countries = []\n",
        "# Iterate over each team in the soccer_match list\n",
        "for team in soccer_match:\n",
        "    # Access the 'country' key and append it to the counties list\n",
        "    countries.append(team['country'])\n",
        "\n",
        "# Print the resulting list of country names\n",
        "print(countries)"
      ]
    },
    {
      "cell_type": "markdown",
      "metadata": {
        "id": "Jqhht7wPYNCu"
      },
      "source": [
        "## Colors: Another List of Strings!\n",
        "\n",
        "In the cell below, iterate over the `soccer_match` list to create a new list with the colors for each team.\n",
        "\n",
        "This should be only one list containing strings for each of the country's colors, not a list of lists."
      ]
    },
    {
      "cell_type": "code",
      "execution_count": 7,
      "metadata": {
        "id": "FCuqNaIwYNCu",
        "outputId": "ace73bbc-c5e3-4025-8574-777cb1e5e9d3",
        "colab": {
          "base_uri": "https://localhost:8080/"
        }
      },
      "outputs": [
        {
          "output_type": "stream",
          "name": "stdout",
          "text": [
            "[['blue', 'white', 'red'], ['green', 'gold']]\n"
          ]
        }
      ],
      "source": [
        "# Create an empty list to store the colors names\n",
        "colors = []\n",
        "# Iterate over each team in the soccer_match list\n",
        "for team in soccer_match:\n",
        "    # Access the 'color' key and append it to the colors list\n",
        "    colors.append(team['colors'])\n",
        "\n",
        "# Print the resulting list of colors names\n",
        "print(colors)"
      ]
    },
    {
      "cell_type": "markdown",
      "metadata": {
        "id": "sPMerklLYNCu"
      },
      "source": [
        "## Players: A List of Dictionaries\n",
        "\n",
        "This time, iterate over the `soccer_match` list to create a new list with the players from each team. `players` should be a single list containing the dictionaries for each of the country's players."
      ]
    },
    {
      "cell_type": "code",
      "execution_count": 9,
      "metadata": {
        "id": "_xh2W0E3YNCu",
        "outputId": "4600bac6-9068-4f30-eae0-74179c05a4a5",
        "colab": {
          "base_uri": "https://localhost:8080/"
        }
      },
      "outputs": [
        {
          "output_type": "stream",
          "name": "stdout",
          "text": [
            "[[{'name': 'Hugo LLORIS', 'captain': True, 'shirt_number': 1, 'position': 'Goalie'}, {'name': 'Benjamin PAVARD', 'captain': False, 'shirt_number': 2, 'position': 'Defender'}, {'name': 'Raphael VARANE', 'captain': False, 'shirt_number': 4, 'position': 'Defender'}, {'name': 'Samuel UMTITI', 'captain': False, 'shirt_number': 5, 'position': 'Defender'}, {'name': 'Paul POGBA', 'captain': False, 'shirt_number': 6, 'position': 'Midfield'}, {'name': 'Antoine GRIEZMANN', 'captain': False, 'shirt_number': 7, 'position': 'Forward'}, {'name': 'Kylian MBAPPE', 'captain': False, 'shirt_number': 10, 'position': 'Forward'}, {'name': 'Ousmane DEMBELE', 'captain': False, 'shirt_number': 11, 'position': 'Forward'}, {'name': 'Corentin TOLISSO', 'captain': False, 'shirt_number': 12, 'position': 'Midfield'}, {'name': 'Ngolo KANTE', 'captain': False, 'shirt_number': 13, 'position': 'Midfield'}, {'name': 'Lucas HERNANDEZ', 'captain': False, 'shirt_number': 21, 'position': 'Defender'}], [{'name': 'Mathew RYAN', 'captain': False, 'shirt_number': 1, 'position': 'Goalie'}, {'name': 'Mark MILLIGAN', 'captain': False, 'shirt_number': 5, 'position': 'Defender'}, {'name': 'Mathew LECKIE', 'captain': False, 'shirt_number': 7, 'position': 'Forward'}, {'name': 'Robbie KRUSE', 'captain': False, 'shirt_number': 10, 'position': 'Forward'}, {'name': 'Andrew NABBOUT', 'captain': False, 'shirt_number': 11, 'position': 'Forward'}, {'name': 'Aaron MOOY', 'captain': False, 'shirt_number': 13, 'position': 'Midfield'}, {'name': 'Mile JEDINAK', 'captain': True, 'shirt_number': 15, 'position': 'Midfield'}, {'name': 'Aziz BEHICH', 'captain': False, 'shirt_number': 16, 'position': 'Defender'}, {'name': 'Joshua RISDON', 'captain': False, 'shirt_number': 19, 'position': 'Defender'}, {'name': 'Trent SAINSBURY', 'captain': False, 'shirt_number': 20, 'position': 'Defender'}, {'name': 'Tom ROGIC', 'captain': False, 'shirt_number': 23, 'position': 'Midfield'}]]\n"
          ]
        }
      ],
      "source": [
        "# Create an empty list to store the players names\n",
        "players = []\n",
        "# Iterate over each team in the soccer_match list\n",
        "for team in soccer_match:\n",
        "    # Access the 'players' key and append it to the players list\n",
        "    players.append(team['players'])\n",
        "\n",
        "# Print the resulting list of players\n",
        "print(players)\n",
        " # [{'name': 'Hugo LLORIS', 'captain': True, 'shirt_number': 1, 'position': 'Goalie'}, {'name': 'Benjamin PAVARD',...}, ...]"
      ]
    },
    {
      "cell_type": "code",
      "source": [
        "# Create an empty list to store all the players from both teams\n",
        "players = []\n",
        "\n",
        "# Iterate over each team in the soccer_match list\n",
        "for team in soccer_match:\n",
        "    # Extend the all_players list with the players from the current team\n",
        "    players.extend(team['players'])\n",
        "\n",
        "# Print the resulting list of players\n",
        "print(players)"
      ],
      "metadata": {
        "id": "WG6QdaP6qjj8",
        "outputId": "fdcf292a-6d6f-40e9-970a-c7e22c5565f6",
        "colab": {
          "base_uri": "https://localhost:8080/"
        }
      },
      "execution_count": 10,
      "outputs": [
        {
          "output_type": "stream",
          "name": "stdout",
          "text": [
            "[{'name': 'Hugo LLORIS', 'captain': True, 'shirt_number': 1, 'position': 'Goalie'}, {'name': 'Benjamin PAVARD', 'captain': False, 'shirt_number': 2, 'position': 'Defender'}, {'name': 'Raphael VARANE', 'captain': False, 'shirt_number': 4, 'position': 'Defender'}, {'name': 'Samuel UMTITI', 'captain': False, 'shirt_number': 5, 'position': 'Defender'}, {'name': 'Paul POGBA', 'captain': False, 'shirt_number': 6, 'position': 'Midfield'}, {'name': 'Antoine GRIEZMANN', 'captain': False, 'shirt_number': 7, 'position': 'Forward'}, {'name': 'Kylian MBAPPE', 'captain': False, 'shirt_number': 10, 'position': 'Forward'}, {'name': 'Ousmane DEMBELE', 'captain': False, 'shirt_number': 11, 'position': 'Forward'}, {'name': 'Corentin TOLISSO', 'captain': False, 'shirt_number': 12, 'position': 'Midfield'}, {'name': 'Ngolo KANTE', 'captain': False, 'shirt_number': 13, 'position': 'Midfield'}, {'name': 'Lucas HERNANDEZ', 'captain': False, 'shirt_number': 21, 'position': 'Defender'}, {'name': 'Mathew RYAN', 'captain': False, 'shirt_number': 1, 'position': 'Goalie'}, {'name': 'Mark MILLIGAN', 'captain': False, 'shirt_number': 5, 'position': 'Defender'}, {'name': 'Mathew LECKIE', 'captain': False, 'shirt_number': 7, 'position': 'Forward'}, {'name': 'Robbie KRUSE', 'captain': False, 'shirt_number': 10, 'position': 'Forward'}, {'name': 'Andrew NABBOUT', 'captain': False, 'shirt_number': 11, 'position': 'Forward'}, {'name': 'Aaron MOOY', 'captain': False, 'shirt_number': 13, 'position': 'Midfield'}, {'name': 'Mile JEDINAK', 'captain': True, 'shirt_number': 15, 'position': 'Midfield'}, {'name': 'Aziz BEHICH', 'captain': False, 'shirt_number': 16, 'position': 'Defender'}, {'name': 'Joshua RISDON', 'captain': False, 'shirt_number': 19, 'position': 'Defender'}, {'name': 'Trent SAINSBURY', 'captain': False, 'shirt_number': 20, 'position': 'Defender'}, {'name': 'Tom ROGIC', 'captain': False, 'shirt_number': 23, 'position': 'Midfield'}]\n"
          ]
        }
      ]
    },
    {
      "cell_type": "markdown",
      "source": [
        "#### .append and .extend works for both"
      ],
      "metadata": {
        "id": "CS9gQ7Q_qv8t"
      }
    },
    {
      "cell_type": "markdown",
      "metadata": {
        "id": "hkcdLDKsYNCu"
      },
      "source": [
        "## Captains: Another List of Dictionaries!\n",
        "\n",
        "Iterate over the `soccer_match` list to create a new list with the captains from each team.\n",
        "\n",
        "This should be a single list containing the dictionaries for each of the countries' captains."
      ]
    },
    {
      "cell_type": "code",
      "execution_count": 16,
      "metadata": {
        "id": "MV5Ey33nYNCu",
        "outputId": "ae8ac6cf-ae3b-4b02-abfd-2c1cf055436e",
        "colab": {
          "base_uri": "https://localhost:8080/"
        }
      },
      "outputs": [
        {
          "output_type": "stream",
          "name": "stdout",
          "text": [
            "[{'name': 'Hugo LLORIS', 'captain': True, 'shirt_number': 1, 'position': 'Goalie'}, {'name': 'Mile JEDINAK', 'captain': True, 'shirt_number': 15, 'position': 'Midfield'}]\n"
          ]
        }
      ],
      "source": [
        "# Create an empty list to store the captains from each team\n",
        "captains = []\n",
        "\n",
        "# Iterate over each team in the soccer_match list\n",
        "for team in soccer_match:\n",
        "    # Iterate over the players in each team\n",
        "    for player in team['players']:\n",
        "        # Check if the player is a captain\n",
        "        if player['captain']:\n",
        "            # Add the captain to the team_captains list\n",
        "            captains.append(player)\n",
        "\n",
        "# Print the resulting list of captains\n",
        "print(captains)\n",
        "\n",
        "# One captain per team:\n",
        "# [{'name': 'Hugo LLORIS',\n",
        "#   'captain': True,\n",
        "#   'shirt_number': 1,\n",
        "#   'position': 'Goalie'},\n",
        "#  {'name': 'Mile JEDINAK',\n",
        "#   'captain': True,\n",
        "#   'shirt_number': 15,\n",
        "#   'position': 'Midfield'}]"
      ]
    },
    {
      "cell_type": "markdown",
      "metadata": {
        "id": "xwfZVMCqYNCv"
      },
      "source": [
        "## Home Team Players: A Third List of Dictionaries\n",
        "\n",
        "Iterate over the `soccer_match` list to create a new list with the players from ONLY the home team.\n",
        "\n",
        "Do not \"hard-code\" which team this is; use the `'home_team'` key."
      ]
    },
    {
      "cell_type": "code",
      "execution_count": 24,
      "metadata": {
        "id": "vApzGKsJYNCv",
        "outputId": "54bf69d5-16f1-4332-c63d-6447ef7d7983",
        "colab": {
          "base_uri": "https://localhost:8080/"
        }
      },
      "outputs": [
        {
          "output_type": "stream",
          "name": "stdout",
          "text": [
            "[[{'name': 'Hugo LLORIS', 'captain': True, 'shirt_number': 1, 'position': 'Goalie'}, {'name': 'Benjamin PAVARD', 'captain': False, 'shirt_number': 2, 'position': 'Defender'}, {'name': 'Raphael VARANE', 'captain': False, 'shirt_number': 4, 'position': 'Defender'}, {'name': 'Samuel UMTITI', 'captain': False, 'shirt_number': 5, 'position': 'Defender'}, {'name': 'Paul POGBA', 'captain': False, 'shirt_number': 6, 'position': 'Midfield'}, {'name': 'Antoine GRIEZMANN', 'captain': False, 'shirt_number': 7, 'position': 'Forward'}, {'name': 'Kylian MBAPPE', 'captain': False, 'shirt_number': 10, 'position': 'Forward'}, {'name': 'Ousmane DEMBELE', 'captain': False, 'shirt_number': 11, 'position': 'Forward'}, {'name': 'Corentin TOLISSO', 'captain': False, 'shirt_number': 12, 'position': 'Midfield'}, {'name': 'Ngolo KANTE', 'captain': False, 'shirt_number': 13, 'position': 'Midfield'}, {'name': 'Lucas HERNANDEZ', 'captain': False, 'shirt_number': 21, 'position': 'Defender'}]]\n"
          ]
        }
      ],
      "source": [
        "# Create an empty list to store the home team players\n",
        "home_team_players = []\n",
        "\n",
        "# Iterate over each team in the soccer_match list\n",
        "for team in soccer_match:\n",
        "    # Check if the current team is the home team\n",
        "    if team['home_team']:\n",
        "        # Add the players from the home team to the home_team_players list\n",
        "        home_team_players.append(team['players'])\n",
        "\n",
        "# Print the resulting list of home team players\n",
        "print(home_team_players)\n",
        "\n",
        "# [{'name': 'Hugo LLORIS',\n",
        "#   'captain': True,\n",
        "#   'shirt_number': 1,\n",
        "#   'position': 'Goalie'},\n",
        "#  ...\n",
        "#  {'name': 'Lucas HERNANDEZ',\n",
        "#   'captain': False,\n",
        "#   'shirt_number': 21,\n",
        "#   'position': 'Defender'}]"
      ]
    },
    {
      "cell_type": "markdown",
      "metadata": {
        "id": "qXaGCBVjYNCv"
      },
      "source": [
        "## Away Team Forwards: Yup, a List of Dictionaries\n",
        "\n",
        "Iterate over the `soccer_match` list to create a new list with the information for each of the away team players whose `position` is `\"Forward\"`."
      ]
    },
    {
      "cell_type": "code",
      "execution_count": 25,
      "metadata": {
        "id": "v0FWs_QdYNCv",
        "outputId": "a207571d-6bc7-4b35-8c6d-8b51eb468bee",
        "colab": {
          "base_uri": "https://localhost:8080/"
        }
      },
      "outputs": [
        {
          "output_type": "stream",
          "name": "stdout",
          "text": [
            "[{'name': 'Mathew LECKIE', 'captain': False, 'shirt_number': 7, 'position': 'Forward'}, {'name': 'Robbie KRUSE', 'captain': False, 'shirt_number': 10, 'position': 'Forward'}, {'name': 'Andrew NABBOUT', 'captain': False, 'shirt_number': 11, 'position': 'Forward'}]\n"
          ]
        }
      ],
      "source": [
        "# Create an empty list to store the away team forwards\n",
        "away_team_forwards = []\n",
        "\n",
        "# Iterate over each team in the soccer_match list\n",
        "for team in soccer_match:\n",
        "    # Check if the current team is the away team\n",
        "    if team['away_team']:\n",
        "        # Iterate over the players in the away team\n",
        "        for player in team['players']:\n",
        "            # Check if the player's position is 'Forward'\n",
        "            if player['position'] == \"Forward\":\n",
        "                # Add the forward player to the away_team_forwards list\n",
        "                away_team_forwards.append(player)\n",
        "\n",
        "# Print the resulting list of home team players\n",
        "print(away_team_forwards)\n",
        "\n",
        "\n",
        "# [{'name': 'Mathew LECKIE',\n",
        "#   'captain': False,\n",
        "#   'shirt_number': 7,\n",
        "#   'position': 'Forward'},\n",
        "#  {'name': 'Robbie KRUSE',\n",
        "#   'captain': False,\n",
        "#   'shirt_number': 10,\n",
        "#   'position': 'Forward'},\n",
        "#  {'name': 'Andrew NABBOUT',\n",
        "#   'captain': False,\n",
        "#   'shirt_number': 11,\n",
        "#   'position': 'Forward'}]"
      ]
    },
    {
      "cell_type": "markdown",
      "metadata": {
        "id": "vdTnuuLiYNCv"
      },
      "source": [
        "## Player with the Highest Number\n",
        "\n",
        "Iterate over the `soccer_match` list and find the player with the highest `shirt_number`.  \n",
        "Store this player's information in the `player_with_highest_num` variable."
      ]
    },
    {
      "cell_type": "code",
      "execution_count": 27,
      "metadata": {
        "id": "b3Qh6HEEYNCv",
        "outputId": "8c94ca59-7941-4056-e66d-a53e0b8877b3",
        "colab": {
          "base_uri": "https://localhost:8080/"
        }
      },
      "outputs": [
        {
          "output_type": "stream",
          "name": "stdout",
          "text": [
            "{'name': 'Tom ROGIC', 'captain': False, 'shirt_number': 23, 'position': 'Midfield'}\n"
          ]
        }
      ],
      "source": [
        "# Initialize variables to track the player with the highest shirt number\n",
        "player_with_highest_num = None\n",
        "highest_shirt_number = -1  # Set a low initial value for comparison\n",
        "\n",
        "# Iterate over each team in the soccer_match list\n",
        "for team in soccer_match:\n",
        "    # Iterate over the players in each team\n",
        "    for player in team['players']:\n",
        "        # Check if the player's shirt number is higher than the current highest\n",
        "        if player['shirt_number'] > highest_shirt_number:\n",
        "            highest_shirt_number = player['shirt_number']\n",
        "            player_with_highest_num = player\n",
        "# Print the player with the highest shirt number\n",
        "print(player_with_highest_num)\n",
        "\n",
        "\n",
        "# {'name': 'Tom ROGIC',\n",
        "#  'captain': False,\n",
        "#  'shirt_number': 23,\n",
        "#  'position': 'Midfield'}"
      ]
    },
    {
      "cell_type": "markdown",
      "metadata": {
        "id": "QTYVwS5tYNCv"
      },
      "source": [
        "## Player Names: A Cleaned List\n",
        "\n",
        "Notice that the players oddly have their last names in all caps. Create a list of all the names of the players in this match. Be sure to make sure their first and last names are properly capitalized (first letter upper case, proceeding letters lower case), as opposed to how they are currently formatted."
      ]
    },
    {
      "cell_type": "code",
      "execution_count": 33,
      "metadata": {
        "id": "BPfCuWAPYNCv",
        "outputId": "40fc5521-a62e-475c-bed0-ee227018a165",
        "colab": {
          "base_uri": "https://localhost:8080/"
        }
      },
      "outputs": [
        {
          "output_type": "stream",
          "name": "stdout",
          "text": [
            "['Hugo Lloris', 'Benjamin Pavard', 'Raphael Varane', 'Samuel Umtiti', 'Paul Pogba', 'Antoine Griezmann', 'Kylian Mbappe', 'Ousmane Dembele', 'Corentin Tolisso', 'Ngolo Kante', 'Lucas Hernandez', 'Mathew Ryan', 'Mark Milligan', 'Mathew Leckie', 'Robbie Kruse', 'Andrew Nabbout', 'Aaron Mooy', 'Mile Jedinak', 'Aziz Behich', 'Joshua Risdon', 'Trent Sainsbury', 'Tom Rogic']\n"
          ]
        }
      ],
      "source": [
        "# Initialize an empty list to store properly capitalized player names\n",
        "player_names = []\n",
        "\n",
        "# Iterate over each team in the soccer_match list\n",
        "for team in soccer_match:\n",
        "    # Iterate over the players in each team\n",
        "    for player in team['players']:\n",
        "        # Capitalize both the first and last names properly\n",
        "        player_name = player['name'].title()  # title() capitalizes the first letter of each word\n",
        "        # Append the properly formatted name to the list\n",
        "        player_names.append(player_name)\n",
        "\n",
        "# Print the list of properly capitalized names\n",
        "print(player_names)\n",
        "\n",
        "#player_names\n",
        "# ['Hugo Lloris',\n",
        "#  'Benjamin Pavard',\n",
        "#  'Raphael Varane',\n",
        "#  'Samuel Umtiti',\n",
        "#  'Paul Pogba',\n",
        "#  'Antoine Griezmann',\n",
        "#  'Kylian Mbappe',\n",
        "#  'Ousmane Dembele',\n",
        "#  'Corentin Tolisso',\n",
        "#  'Ngolo Kante',\n",
        "#  'Lucas Hernandez',\n",
        "#  'Mathew Ryan',\n",
        "#  'Mark Milligan',\n",
        "#  'Mathew Leckie',\n",
        "#  'Robbie Kruse',\n",
        "#  'Andrew Nabbout',\n",
        "#  'Aaron Mooy',\n",
        "#  'Mile Jedinak',\n",
        "#  'Aziz Behich',\n",
        "#  'Joshua Risdon',\n",
        "#  'Trent Sainsbury',\n",
        "#  'Tom Rogic']"
      ]
    },
    {
      "cell_type": "markdown",
      "metadata": {
        "id": "H8U8DJOGYNCv"
      },
      "source": [
        "## Summary"
      ]
    },
    {
      "cell_type": "markdown",
      "metadata": {
        "id": "q7myZfbLYNCv"
      },
      "source": [
        "In this lab, you practiced using nested loops to iterate through a nested data structure using data from a soccer match. Nested data structures can be quite complicated and it can become difficult to access more nested data. With nested loops, you are able to dynamically access this nested data and work with it as you would with a flatter data structure. It is important to think about the structure of the data before and while you're working so you know exactly what data you are working with at each level."
      ]
    }
  ],
  "metadata": {
    "kernelspec": {
      "display_name": "Python (learn-env)",
      "language": "python",
      "name": "learn-env"
    },
    "language_info": {
      "codemirror_mode": {
        "name": "ipython",
        "version": 3
      },
      "file_extension": ".py",
      "mimetype": "text/x-python",
      "name": "python",
      "nbconvert_exporter": "python",
      "pygments_lexer": "ipython3",
      "version": "3.8.5"
    },
    "toc": {
      "base_numbering": 1,
      "nav_menu": {},
      "number_sections": true,
      "sideBar": true,
      "skip_h1_title": false,
      "title_cell": "Table of Contents",
      "title_sidebar": "Contents",
      "toc_cell": false,
      "toc_position": {},
      "toc_section_display": true,
      "toc_window_display": false
    },
    "colab": {
      "provenance": [],
      "name": "Nested.ipynb",
      "include_colab_link": true
    }
  },
  "nbformat": 4,
  "nbformat_minor": 0
}