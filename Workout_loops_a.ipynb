{
  "nbformat": 4,
  "nbformat_minor": 0,
  "metadata": {
    "colab": {
      "provenance": [],
      "authorship_tag": "ABX9TyM9a1wcO4xPXMJbHY4vCSYU",
      "include_colab_link": true
    },
    "kernelspec": {
      "name": "python3",
      "display_name": "Python 3"
    },
    "language_info": {
      "name": "python"
    }
  },
  "cells": [
    {
      "cell_type": "markdown",
      "metadata": {
        "id": "view-in-github",
        "colab_type": "text"
      },
      "source": [
        "<a href=\"https://colab.research.google.com/github/loureenvalyne/python-lessons/blob/main/Workout_loops_a.ipynb\" target=\"_parent\"><img src=\"https://colab.research.google.com/assets/colab-badge.svg\" alt=\"Open In Colab\"/></a>"
      ]
    },
    {
      "cell_type": "code",
      "execution_count": null,
      "metadata": {
        "id": "Etq9g4DAniwx"
      },
      "outputs": [],
      "source": [
        "zero_to_three = [0, 1, 2, 3]"
      ]
    },
    {
      "cell_type": "code",
      "source": [
        "print(zero_to_three[0])\n",
        "print(zero_to_three[1])\n",
        "print(zero_to_three[2])\n",
        "print(zero_to_three[3])"
      ],
      "metadata": {
        "colab": {
          "base_uri": "https://localhost:8080/"
        },
        "id": "ThXUSHEapZ-8",
        "outputId": "aaaf78c7-dd10-4c98-a81b-b0fbcc3dd0b2"
      },
      "execution_count": null,
      "outputs": [
        {
          "output_type": "stream",
          "name": "stdout",
          "text": [
            "0\n",
            "1\n",
            "2\n",
            "3\n"
          ]
        }
      ]
    },
    {
      "cell_type": "code",
      "source": [
        "for number in zero_to_three:\n",
        "    print(number)"
      ],
      "metadata": {
        "colab": {
          "base_uri": "https://localhost:8080/"
        },
        "id": "oO7sg7zWpruB",
        "outputId": "8ee7356a-f04b-4057-c0cf-761c680dd63e"
      },
      "execution_count": null,
      "outputs": [
        {
          "output_type": "stream",
          "name": "stdout",
          "text": [
            "0\n",
            "1\n",
            "2\n",
            "3\n"
          ]
        }
      ]
    },
    {
      "cell_type": "code",
      "source": [
        "iteration_count = 0\n",
        "for whatever_we_want in zero_to_three:\n",
        "    iteration_count += 1\n",
        "    print(\"This is iteration:\", iteration_count)\n",
        "    print(whatever_we_want)\n",
        "print(\"The for loop is finished now! I am not in the for loop block, which is why I only printed once!\")"
      ],
      "metadata": {
        "colab": {
          "base_uri": "https://localhost:8080/"
        },
        "id": "aYljCHO-p3In",
        "outputId": "ea8583f1-bae3-4cd3-b960-4954e3b565bf"
      },
      "execution_count": null,
      "outputs": [
        {
          "output_type": "stream",
          "name": "stdout",
          "text": [
            "This is iteration: 1\n",
            "0\n",
            "This is iteration: 2\n",
            "1\n",
            "This is iteration: 3\n",
            "2\n",
            "This is iteration: 4\n",
            "3\n",
            "The for loop is finished now! I am not in the for loop block, which is why I only printed once!\n"
          ]
        }
      ]
    },
    {
      "cell_type": "code",
      "source": [
        "#Using list elements indeces\n",
        "#In the examples above, we used the elements in our list to perform an operation, which was printing them. We can also use a list of numbers to access elements from another list. Let's take a look at an example.\n",
        "\n",
        "countries = ['Croatia', 'USA', 'Argentina', 'France', 'Brazil', 'Japan', 'Vietnam']"
      ],
      "metadata": {
        "id": "mj1nmdAhqAvI"
      },
      "execution_count": null,
      "outputs": []
    },
    {
      "cell_type": "code",
      "source": [
        "for index in [0,1,2,3,4,5,6]:\n",
        "    print(index)\n",
        "    print(countries[index])"
      ],
      "metadata": {
        "colab": {
          "base_uri": "https://localhost:8080/"
        },
        "id": "Ex_a620drPW1",
        "outputId": "bf7b8245-9600-409a-b7c6-4089240b8d84"
      },
      "execution_count": null,
      "outputs": [
        {
          "output_type": "stream",
          "name": "stdout",
          "text": [
            "0\n",
            "Croatia\n",
            "1\n",
            "USA\n",
            "2\n",
            "Argentina\n",
            "3\n",
            "France\n",
            "4\n",
            "Brazil\n",
            "5\n",
            "Japan\n",
            "6\n",
            "Vietnam\n"
          ]
        }
      ]
    },
    {
      "cell_type": "code",
      "source": [],
      "metadata": {
        "id": "mWbofnD1rRtf"
      },
      "execution_count": null,
      "outputs": []
    },
    {
      "cell_type": "markdown",
      "source": [
        "in the example above, we are still using the elements in the list of numbers from 0 to 6 in our for loop, but we are instead using them to access each element of another list. This example is a bit contrived, but perhaps you have two lists that are ordered correctly and have information like the capital cities in one list and the corresponding countries in another. How would we print both of those out in the same line?"
      ],
      "metadata": {
        "id": "svRc2pwYsTBM"
      }
    },
    {
      "cell_type": "code",
      "source": [
        "countries = ['Croatia', 'USA', 'Argentina', 'France', 'Brazil', 'Japan', 'Vietnam']\n",
        "cities = ['Zagreb', 'District of Columbia', 'Buenos Aires', 'Paris', 'Rio de Janeiro', 'Tokyo', 'Hanoi']"
      ],
      "metadata": {
        "id": "4dIPS8J0smmt"
      },
      "execution_count": null,
      "outputs": []
    },
    {
      "cell_type": "code",
      "source": [
        "for index in [0,1,2,3,4,5,6]:\n",
        "    print(cities[index]+\",\", countries[index])"
      ],
      "metadata": {
        "colab": {
          "base_uri": "https://localhost:8080/"
        },
        "id": "7ijnS4Sssz74",
        "outputId": "fd6515af-3808-4036-9531-b57877021b73"
      },
      "execution_count": null,
      "outputs": [
        {
          "output_type": "stream",
          "name": "stdout",
          "text": [
            "Zagreb, Croatia\n",
            "District of Columbia, USA\n",
            "Buenos Aires, Argentina\n",
            "Paris, France\n",
            "Rio de Janeiro, Brazil\n",
            "Tokyo, Japan\n",
            "Hanoi, Vietnam\n"
          ]
        }
      ]
    },
    {
      "cell_type": "markdown",
      "source": [
        "When unsure of the length we use the len function"
      ],
      "metadata": {
        "id": "KpON-c0KuMLY"
      }
    },
    {
      "cell_type": "code",
      "source": [
        "len(countries)"
      ],
      "metadata": {
        "colab": {
          "base_uri": "https://localhost:8080/"
        },
        "id": "i6Cf3O6dtEHn",
        "outputId": "24f4aadb-b80e-4bd4-e3ba-62ee40d3d116"
      },
      "execution_count": null,
      "outputs": [
        {
          "output_type": "execute_result",
          "data": {
            "text/plain": [
              "7"
            ]
          },
          "metadata": {},
          "execution_count": 10
        }
      ]
    },
    {
      "cell_type": "markdown",
      "source": [
        "Then we can turn this length into a successive list of elements in the following way:\n",
        "\n",
        "First, create a range object:"
      ],
      "metadata": {
        "id": "TrILOR2rugwx"
      }
    },
    {
      "cell_type": "code",
      "source": [
        "range(0, len(countries))"
      ],
      "metadata": {
        "colab": {
          "base_uri": "https://localhost:8080/"
        },
        "id": "h8tV0_SPuadJ",
        "outputId": "b5e87dc6-c298-4b43-ee0c-78b2f7599b4c"
      },
      "execution_count": null,
      "outputs": [
        {
          "output_type": "execute_result",
          "data": {
            "text/plain": [
              "range(0, 7)"
            ]
          },
          "metadata": {},
          "execution_count": 11
        }
      ]
    },
    {
      "cell_type": "markdown",
      "source": [
        "Then we turn it into a list"
      ],
      "metadata": {
        "id": "FdG_SLnButd0"
      }
    },
    {
      "cell_type": "code",
      "source": [
        "list(range(0, len(countries)))"
      ],
      "metadata": {
        "colab": {
          "base_uri": "https://localhost:8080/"
        },
        "id": "Lc7FcKUFu1-f",
        "outputId": "23281905-abe5-4898-c5f1-2b2be87a079e"
      },
      "execution_count": null,
      "outputs": [
        {
          "output_type": "execute_result",
          "data": {
            "text/plain": [
              "[0, 1, 2, 3, 4, 5, 6]"
            ]
          },
          "metadata": {},
          "execution_count": 12
        }
      ]
    },
    {
      "cell_type": "code",
      "source": [
        "for index in list(range(0, len(countries))):\n",
        "    print(cities[index]+\",\", countries[index])"
      ],
      "metadata": {
        "colab": {
          "base_uri": "https://localhost:8080/"
        },
        "id": "zeClP5vQuoBU",
        "outputId": "0fb9bbca-bc90-46ed-dc3b-2800de6421fc"
      },
      "execution_count": null,
      "outputs": [
        {
          "output_type": "stream",
          "name": "stdout",
          "text": [
            "Zagreb, Croatia\n",
            "District of Columbia, USA\n",
            "Buenos Aires, Argentina\n",
            "Paris, France\n",
            "Rio de Janeiro, Brazil\n",
            "Tokyo, Japan\n",
            "Hanoi, Vietnam\n"
          ]
        }
      ]
    },
    {
      "cell_type": "markdown",
      "source": [
        "To add a country and city to the list by appending"
      ],
      "metadata": {
        "id": "D6YWUIYWvk1o"
      }
    },
    {
      "cell_type": "code",
      "source": [
        "countries.append('Mexico')\n",
        "cities.append('Mexico City')\n",
        "for index in list(range(0, len(countries))):\n",
        "    print(cities[index]+\",\", countries[index])"
      ],
      "metadata": {
        "colab": {
          "base_uri": "https://localhost:8080/"
        },
        "id": "_ZOeROPrvfS4",
        "outputId": "8bddbcdd-9e66-42d9-8bf1-0feacb67d7bb"
      },
      "execution_count": null,
      "outputs": [
        {
          "output_type": "stream",
          "name": "stdout",
          "text": [
            "Zagreb, Croatia\n",
            "District of Columbia, USA\n",
            "Buenos Aires, Argentina\n",
            "Paris, France\n",
            "Rio de Janeiro, Brazil\n",
            "Tokyo, Japan\n",
            "Hanoi, Vietnam\n",
            "Mexico City, Mexico\n"
          ]
        }
      ]
    },
    {
      "cell_type": "markdown",
      "source": [
        "Now that we know we can iterate through a list that contains multiple data types, let's explore iterating through a data type that's not a list.\n",
        "\n",
        "Another collection we commonly will iterate over is a dictionary. Dictionaries differ from lists, on a high level, in that elements are key, value pairs instead of one single element. So, when we go through each item in a dictionary, we are actually working with a two-part element (with a key & value). Similarly to how we name a variable for the element in a list for a for loop, we name a variable for both the key and value when we iterate over a dictionary. However, in Python, we can't iterate directly over the dictionary, we iterate over the items of a dictionary, which are the key-value pairs. Let's take a look at an example."
      ],
      "metadata": {
        "id": "3PbCux4oyTuv"
      }
    },
    {
      "cell_type": "code",
      "source": [
        "example_dictionary = {'first_name': \"Terrance\", 'last_name': \"KOAR\", 'favorite_language': \"Python\"}\n",
        "print(example_dictionary.items())\n",
        "type(example_dictionary.items())"
      ],
      "metadata": {
        "colab": {
          "base_uri": "https://localhost:8080/"
        },
        "id": "0Cctq6IkvyXt",
        "outputId": "bf8ca23c-92d0-447a-c48a-0b50d1eadb7a"
      },
      "execution_count": null,
      "outputs": [
        {
          "output_type": "stream",
          "name": "stdout",
          "text": [
            "dict_items([('first_name', 'Terrance'), ('last_name', 'KOAR'), ('favorite_language', 'Python')])\n"
          ]
        },
        {
          "output_type": "execute_result",
          "data": {
            "text/plain": [
              "dict_items"
            ]
          },
          "metadata": {},
          "execution_count": 15
        }
      ]
    },
    {
      "cell_type": "markdown",
      "source": [
        "Here we can see this dict_items object looks almost like a list, but each item has two parts, the key and value. So, in our first iteration, the first key will be first_name, and the first value will be Terrance."
      ],
      "metadata": {
        "id": "NW6ExzKayuX2"
      }
    },
    {
      "cell_type": "code",
      "source": [
        "for key, value in example_dictionary.items():\n",
        "    print(\"this is the key:\", key)\n",
        "    print(\"this is the value:\", value, \"\\n\")"
      ],
      "metadata": {
        "colab": {
          "base_uri": "https://localhost:8080/"
        },
        "id": "fkBmPHtyyirc",
        "outputId": "ff813686-9dda-4b3e-cf93-2e2009539821"
      },
      "execution_count": null,
      "outputs": [
        {
          "output_type": "stream",
          "name": "stdout",
          "text": [
            "this is the key: first_name\n",
            "this is the value: Terrance \n",
            "\n",
            "this is the key: last_name\n",
            "this is the value: KOAR \n",
            "\n",
            "this is the key: favorite_language\n",
            "this is the value: Python \n",
            "\n"
          ]
        }
      ]
    },
    {
      "cell_type": "markdown",
      "source": [
        "So, we can see that the dict_items object groups the key values together in a way that we can iterate over them and access them. We can even use them to inform our program to operate on keys and values in a certain way. Such as, the last name is inexplicably in all caps. Let's look at how we can rectify that and title case the last name when we print out the full name of the example_dictionary object."
      ],
      "metadata": {
        "id": "QT4VA266zKib"
      }
    },
    {
      "cell_type": "code",
      "source": [
        "first_name = \"\"\n",
        "last_name = \"\"\n",
        "for key, value in example_dictionary.items():\n",
        "    if key == \"last_name\":\n",
        "        last_name = value.title()\n",
        "    if key == \"first_name\":\n",
        "        first_name = value\n",
        "print(first_name, last_name)"
      ],
      "metadata": {
        "colab": {
          "base_uri": "https://localhost:8080/"
        },
        "id": "WrNkFD3szCsF",
        "outputId": "64cd0c55-61fd-4f3e-c5e4-b392094d3719"
      },
      "execution_count": null,
      "outputs": [
        {
          "output_type": "stream",
          "name": "stdout",
          "text": [
            "Terrance Koar\n"
          ]
        }
      ]
    },
    {
      "cell_type": "markdown",
      "source": [
        "#Conventional Naming Patterns"
      ],
      "metadata": {
        "id": "2ASQ4HxJ0eSa"
      }
    },
    {
      "cell_type": "markdown",
      "source": [
        "Typically, when we are looping through a collection of things like countries, we will name the looping variable, country, since that is the singular version of the plural name that represents our list. This is convention and helps to not only remind us, but tell other people looking at our code what that variable is. Let's take a look at a couple examples."
      ],
      "metadata": {
        "id": "KV7aISDm0oJ9"
      }
    },
    {
      "cell_type": "code",
      "source": [
        "for country in countries:\n",
        "    print(country)"
      ],
      "metadata": {
        "colab": {
          "base_uri": "https://localhost:8080/"
        },
        "id": "ePDNpZNvzSX3",
        "outputId": "975a3ee7-93e6-483f-d8b8-d26ac7647285"
      },
      "execution_count": null,
      "outputs": [
        {
          "output_type": "stream",
          "name": "stdout",
          "text": [
            "Croatia\n",
            "USA\n",
            "Argentina\n",
            "France\n",
            "Brazil\n",
            "Japan\n",
            "Vietnam\n",
            "Mexico\n"
          ]
        }
      ]
    },
    {
      "cell_type": "code",
      "source": [
        "ice_cream_flavors = ['Mint Chocolate Chip', 'Coffee', 'Cookie Dough', 'Fudge Mint Brownie', 'Vanilla Bean']\n",
        "for ice_cream_flavor in ice_cream_flavors:\n",
        "    print('I love ' + ice_cream_flavor + ' ice cream!!')"
      ],
      "metadata": {
        "colab": {
          "base_uri": "https://localhost:8080/"
        },
        "id": "I6stUO991BGs",
        "outputId": "fd507e1f-a826-4f50-d140-583242500e5c"
      },
      "execution_count": null,
      "outputs": [
        {
          "output_type": "stream",
          "name": "stdout",
          "text": [
            "I love Mint Chocolate Chip ice cream!!\n",
            "I love Coffee ice cream!!\n",
            "I love Cookie Dough ice cream!!\n",
            "I love Fudge Mint Brownie ice cream!!\n",
            "I love Vanilla Bean ice cream!!\n"
          ]
        }
      ]
    },
    {
      "cell_type": "markdown",
      "source": [
        "#Summary\n",
        "In this lesson, we learned how to use loops to iterate through a collection of elements. We started with iterating through a list of numbers, and performed the same operation on each number. Then we saw how we can loop through the numbers and have each number be used to access a successive element from a separate list, like countries. We then saw that to ensure our list of numbers matched the indices of our other list, we had to use the expression, for element in list(range(0, len(list))). Finally, we introduced a naming convention that is commonly used when naming the variable for our loops when iterating over a collection that is a list of common elements (i.e. ice_cream_flavor for a list of ice_cream_flavors)."
      ],
      "metadata": {
        "id": "91hSFOvL1UcM"
      }
    },
    {
      "cell_type": "markdown",
      "source": [],
      "metadata": {
        "id": "NFidb4xk1TyL"
      }
    },
    {
      "cell_type": "code",
      "source": [],
      "metadata": {
        "id": "yEqWbqFS1Gp7"
      },
      "execution_count": null,
      "outputs": []
    }
  ]
}