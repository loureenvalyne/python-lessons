{
  "cells": [
    {
      "cell_type": "markdown",
      "metadata": {
        "id": "view-in-github",
        "colab_type": "text"
      },
      "source": [
        "<a href=\"https://colab.research.google.com/github/loureenvalyne/python-lessons/blob/main/Functions_With_Arguments_Lab.ipynb\" target=\"_parent\"><img src=\"https://colab.research.google.com/assets/colab-badge.svg\" alt=\"Open In Colab\"/></a>"
      ]
    },
    {
      "cell_type": "markdown",
      "metadata": {
        "id": "6xC-A6z1Z3_1"
      },
      "source": [
        "# Functions With Arguments - Lab\n",
        "\n",
        "## Introduction\n",
        "In this lesson, we have decided to visit one of our travel destinations! This time we have chosen to visit Albuquerque, but we aren't very familiar with this city and are quite hungry after our long flight. We will be working with information we pulled from the Yelp database to help us find a restaurant where we can satisfy our hunger. While Yelp is great for learning about what to do in Albuquerque, it gives us back a lot of information. We'll use what we know about functions and dictionaries to format and read our data more easily.\n",
        "\n",
        "## Objectives\n",
        "\n",
        "You will be able to:\n",
        "\n",
        "* Declare and use a function with arguments\n",
        "\n",
        "## Exploring Two Restaurants in Albuquerque\n",
        "\n",
        "Let's take a quick look at the information Yelp provides for a single restaurant:"
      ]
    },
    {
      "cell_type": "code",
      "execution_count": 1,
      "metadata": {
        "id": "zJyc-b5aZ3_2"
      },
      "outputs": [],
      "source": [
        "# Run this cell without changes\n",
        "fork_fig = {'categories': [{'alias': 'burgers', 'title': 'Burgers'},\n",
        "  {'alias': 'sandwiches', 'title': 'Sandwiches'},\n",
        "  {'alias': 'salad', 'title': 'Salad'}],\n",
        " 'coordinates': {'latitude': 35.10871, 'longitude': -106.56739},\n",
        " 'display_phone': '(505) 881-5293',\n",
        " 'distance': 3571.724649307866,\n",
        " 'id': 'fork-and-fig-albuquerque',\n",
        " 'image_url': 'https://s3-media1.fl.yelpcdn.com/bphoto/_-DpXKfS3jv6DyA47g6Fxg/o.jpg',\n",
        " 'is_closed': False,\n",
        " 'location': {'address1': '6904 Menaul Blvd NE',\n",
        "  'address2': 'Ste C',\n",
        "  'address3': '',\n",
        "  'city': 'Albuquerque',\n",
        "  'country': 'US',\n",
        "  'display_address': ['6904 Menaul Blvd NE', 'Ste C', 'Albuquerque, NM 87110'],\n",
        "  'state': 'NM',\n",
        "  'zip_code': '87110'},\n",
        " 'name': 'Fork & Fig',\n",
        " 'phone': '+15058815293',\n",
        " 'price': '$$',\n",
        " 'rating': 4.5,\n",
        " 'review_count': 604,\n",
        " 'transactions': [],\n",
        " 'url': 'https://www.yelp.com/biz/fork-and-fig-albuquerque?adjust_creative=SYc8R4Gowqru5h4SBKZXsQ&utm_campaign=yelp_api_v3&utm_medium=api_v3_business_search&utm_source=SYc8R4Gowqru5h4SBKZXsQ'}"
      ]
    },
    {
      "cell_type": "markdown",
      "metadata": {
        "id": "05rte96jZ3_3"
      },
      "source": [
        "Above is the information provided about `Fork & Fig`, but all restaurants are provided with this information.  For example, here is the information provided by Yelp for another restaurant, `Frontier Restaurant`."
      ]
    },
    {
      "cell_type": "code",
      "execution_count": 2,
      "metadata": {
        "id": "40VoK0QoZ3_3"
      },
      "outputs": [],
      "source": [
        "# Run this cell without changes\n",
        "frontier_restaurant = {'categories': [{'alias': 'mexican', 'title': 'Mexican'},\n",
        "  {'alias': 'diners', 'title': 'Diners'},\n",
        "  {'alias': 'tradamerican', 'title': 'American (Traditional)'}],\n",
        " 'coordinates': {'latitude': 35.0808088832532, 'longitude': -106.619402244687},\n",
        " 'display_phone': '(505) 266-0550',\n",
        " 'distance': 4033.6583235266075,\n",
        " 'id': 'frontier-restaurant-albuquerque-2',\n",
        " 'image_url': 'https://s3-media4.fl.yelpcdn.com/bphoto/M9L2z6-G0NobuDJ6YTh6VA/o.jpg',\n",
        " 'is_closed': False,\n",
        " 'location': {'address1': '2400 Central Ave SE',\n",
        "  'address2': '',\n",
        "  'address3': '',\n",
        "  'city': 'Albuquerque',\n",
        "  'country': 'US',\n",
        "  'display_address': ['2400 Central Ave SE', 'Albuquerque, NM 87106'],\n",
        "  'state': 'NM',\n",
        "  'zip_code': '87106'},\n",
        " 'name': 'Frontier Restaurant',\n",
        " 'phone': '+15052660550',\n",
        " 'price': '$',\n",
        " 'rating': 4.0,\n",
        " 'review_count': 1369,\n",
        " 'transactions': [],\n",
        " 'url': 'https://www.yelp.com/biz/frontier-restaurant-albuquerque-2?adjust_creative=SYc8R4Gowqru5h4SBKZXsQ&utm_campaign=yelp_api_v3&utm_medium=api_v3_business_search&utm_source=SYc8R4Gowqru5h4SBKZXsQ'}"
      ]
    },
    {
      "cell_type": "markdown",
      "metadata": {
        "id": "dAFoJCuBZ3_4"
      },
      "source": [
        "As we already know, one way to quickly view the attributes of a dictionary is to look at the keys of the dictionary."
      ]
    },
    {
      "cell_type": "code",
      "execution_count": 3,
      "metadata": {
        "id": "83Hs-b8NZ3_4",
        "outputId": "bf8b5259-240a-42d6-c532-8770351008d9",
        "colab": {
          "base_uri": "https://localhost:8080/"
        }
      },
      "outputs": [
        {
          "output_type": "execute_result",
          "data": {
            "text/plain": [
              "dict_keys(['categories', 'coordinates', 'display_phone', 'distance', 'id', 'image_url', 'is_closed', 'location', 'name', 'phone', 'price', 'rating', 'review_count', 'transactions', 'url'])"
            ]
          },
          "metadata": {},
          "execution_count": 3
        }
      ],
      "source": [
        "# Run this cell without changes\n",
        "fork_fig.keys()"
      ]
    },
    {
      "cell_type": "code",
      "execution_count": 4,
      "metadata": {
        "id": "gIvfnUh5Z3_4",
        "outputId": "5255c11d-73e6-46ee-d56b-f3227dffd14a",
        "colab": {
          "base_uri": "https://localhost:8080/"
        }
      },
      "outputs": [
        {
          "output_type": "execute_result",
          "data": {
            "text/plain": [
              "dict_keys(['categories', 'coordinates', 'display_phone', 'distance', 'id', 'image_url', 'is_closed', 'location', 'name', 'phone', 'price', 'rating', 'review_count', 'transactions', 'url'])"
            ]
          },
          "metadata": {},
          "execution_count": 4
        }
      ],
      "source": [
        "# Run this cell without changes\n",
        "frontier_restaurant.keys()"
      ]
    },
    {
      "cell_type": "code",
      "execution_count": 5,
      "metadata": {
        "id": "v_ep2zKtZ3_4",
        "outputId": "c1888382-8db6-478c-8ff7-50feeb51ad64",
        "colab": {
          "base_uri": "https://localhost:8080/"
        }
      },
      "outputs": [
        {
          "output_type": "execute_result",
          "data": {
            "text/plain": [
              "True"
            ]
          },
          "metadata": {},
          "execution_count": 5
        }
      ],
      "source": [
        "# Run this cell without changes\n",
        "fork_fig.keys() == frontier_restaurant.keys()"
      ]
    },
    {
      "cell_type": "markdown",
      "metadata": {
        "id": "yuqGj7bfZ3_4"
      },
      "source": [
        "As we can see from our above comparison, Yelp provides us with the same information for both restaurants.  \n",
        "\n",
        "## Writing Functions to Extract Information\n",
        "\n",
        "Ok, now let's write our functions.\n",
        "\n",
        "Write a function called `restaurant_name()` that, provided a dictionary representing a restaurant like you saw above, returns that restaurant's name."
      ]
    },
    {
      "cell_type": "code",
      "execution_count": 8,
      "metadata": {
        "id": "NmWsLRh0Z3_4"
      },
      "outputs": [],
      "source": [
        "def restaurant_name(restaurant):\n",
        "  return restaurant['name']"
      ]
    },
    {
      "cell_type": "code",
      "execution_count": 9,
      "metadata": {
        "id": "piNar2HgZ3_4",
        "outputId": "797c911b-ed4a-401f-f7eb-a87f2e0a7d94",
        "colab": {
          "base_uri": "https://localhost:8080/",
          "height": 36
        }
      },
      "outputs": [
        {
          "output_type": "execute_result",
          "data": {
            "text/plain": [
              "'Frontier Restaurant'"
            ],
            "application/vnd.google.colaboratory.intrinsic+json": {
              "type": "string"
            }
          },
          "metadata": {},
          "execution_count": 9
        }
      ],
      "source": [
        "# Run this cell without changes\n",
        "restaurant_name(frontier_restaurant) # 'Frontier Restaurant'"
      ]
    },
    {
      "cell_type": "code",
      "execution_count": 10,
      "metadata": {
        "id": "qCQBCeWQZ3_5",
        "outputId": "0c3cc572-bef6-4837-b8cd-9cbae39e4ead",
        "colab": {
          "base_uri": "https://localhost:8080/",
          "height": 36
        }
      },
      "outputs": [
        {
          "output_type": "execute_result",
          "data": {
            "text/plain": [
              "'Fork & Fig'"
            ],
            "application/vnd.google.colaboratory.intrinsic+json": {
              "type": "string"
            }
          },
          "metadata": {},
          "execution_count": 10
        }
      ],
      "source": [
        "# Run this cell without changes\n",
        "restaurant_name(fork_fig) # 'Fork & Fig'"
      ]
    },
    {
      "cell_type": "markdown",
      "metadata": {
        "id": "xB3D__aqZ3_5"
      },
      "source": [
        "Now write a function called `restaurant_rating()` that returns the rating of the provided restaurant."
      ]
    },
    {
      "cell_type": "code",
      "execution_count": 11,
      "metadata": {
        "id": "LNk1_MobZ3_5"
      },
      "outputs": [],
      "source": [
        "def restaurant_rating(restaurant):\n",
        "  return restaurant ['rating']"
      ]
    },
    {
      "cell_type": "code",
      "execution_count": 12,
      "metadata": {
        "id": "4vIvc0tQZ3_5",
        "outputId": "ba201b4e-6423-4928-d4a9-55416e1398b3",
        "colab": {
          "base_uri": "https://localhost:8080/"
        }
      },
      "outputs": [
        {
          "output_type": "execute_result",
          "data": {
            "text/plain": [
              "4.0"
            ]
          },
          "metadata": {},
          "execution_count": 12
        }
      ],
      "source": [
        "# Run this cell without changes\n",
        "restaurant_rating(frontier_restaurant) # 4.0"
      ]
    },
    {
      "cell_type": "code",
      "execution_count": 13,
      "metadata": {
        "id": "HB__fC7BZ3_5",
        "outputId": "0c38b5da-ec8b-4864-81dd-2daeca027f60",
        "colab": {
          "base_uri": "https://localhost:8080/"
        }
      },
      "outputs": [
        {
          "output_type": "execute_result",
          "data": {
            "text/plain": [
              "4.5"
            ]
          },
          "metadata": {},
          "execution_count": 13
        }
      ],
      "source": [
        "# Run this cell without changes\n",
        "restaurant_rating(fork_fig) # 4.5"
      ]
    },
    {
      "cell_type": "markdown",
      "metadata": {
        "id": "6uqzUcizZ3_5"
      },
      "source": [
        "## Comparing Restaurants\n",
        "\n",
        "Now let's write a function called `is_better()` that returns `True` if a restaurant has a higher rating than an alternative restaurant.  The first argument should be called `restaurant` and the second argument should be called `alternative`.  The function returns `False` if the two ratings are equal.\n",
        "\n",
        "This function should *call* (AKA *invoke*) your existing `restaurant_rating` function."
      ]
    },
    {
      "cell_type": "code",
      "execution_count": 14,
      "metadata": {
        "id": "ViL5gWo4Z3_5"
      },
      "outputs": [],
      "source": [
        "def is_better(restaurant, alternative):\n",
        "    # Get the rating for both the restaurant and the alternative\n",
        "    restaurant_rating_value = restaurant_rating(restaurant)\n",
        "    alternative_rating_value = restaurant_rating(alternative)\n",
        "\n",
        "    # Return True if restaurant rating is higher, otherwise False\n",
        "    if restaurant_rating_value > alternative_rating_value:\n",
        "        return True\n",
        "    else:\n",
        "        return False"
      ]
    },
    {
      "cell_type": "code",
      "execution_count": 15,
      "metadata": {
        "id": "nK1FUcWPZ3_5",
        "outputId": "8e7ed4fa-962e-4c81-91ce-5f1febbc7039",
        "colab": {
          "base_uri": "https://localhost:8080/"
        }
      },
      "outputs": [
        {
          "output_type": "execute_result",
          "data": {
            "text/plain": [
              "False"
            ]
          },
          "metadata": {},
          "execution_count": 15
        }
      ],
      "source": [
        "# Run this cell without changes\n",
        "is_better(frontier_restaurant, fork_fig) # False"
      ]
    },
    {
      "cell_type": "code",
      "execution_count": 16,
      "metadata": {
        "id": "TXyrtvg4Z3_5",
        "outputId": "a688cc65-65b5-4ad9-b665-e15adc33d1f1",
        "colab": {
          "base_uri": "https://localhost:8080/"
        }
      },
      "outputs": [
        {
          "output_type": "execute_result",
          "data": {
            "text/plain": [
              "True"
            ]
          },
          "metadata": {},
          "execution_count": 16
        }
      ],
      "source": [
        "# Run this cell without changes\n",
        "is_better(fork_fig, frontier_restaurant) # True"
      ]
    },
    {
      "cell_type": "code",
      "execution_count": 17,
      "metadata": {
        "id": "KjOvfpI_Z3_5",
        "outputId": "4ea265ae-893e-40dc-b15a-da8a9c49b693",
        "colab": {
          "base_uri": "https://localhost:8080/"
        }
      },
      "outputs": [
        {
          "output_type": "execute_result",
          "data": {
            "text/plain": [
              "False"
            ]
          },
          "metadata": {},
          "execution_count": 17
        }
      ],
      "source": [
        "# Run this cell without changes\n",
        "is_better(fork_fig, fork_fig) # False"
      ]
    },
    {
      "cell_type": "markdown",
      "metadata": {
        "id": "FScoeDy9Z3_6"
      },
      "source": [
        "Now let's write a function called `is_cheaper()` that returns `True` if a restaurant has a lower price, that is the restaurant has fewer `'$'` signs, than an alternative restaurant. The first argument should be called `restaurant` and the second argument should be called `alternative`. The function returns `False` if the two prices are equal.\n",
        "\n",
        "> **Hint:** *Strings in Python respond to then `len` function.*"
      ]
    },
    {
      "cell_type": "code",
      "execution_count": 18,
      "metadata": {
        "id": "b2KRnv0aZ3_6"
      },
      "outputs": [],
      "source": [
        "def is_cheaper(restaurant, alternative):\n",
        "     # Get the price levels of both restaurants\n",
        "    restaurant_price = restaurant['price']\n",
        "    alternative_price = alternative['price']\n",
        "\n",
        "    # Return True if restaurant's price is cheaper (fewer '$'), otherwise False\n",
        "    if len(restaurant_price) < len(alternative_price):\n",
        "        return True\n",
        "    else:\n",
        "        return False"
      ]
    },
    {
      "cell_type": "code",
      "execution_count": 19,
      "metadata": {
        "id": "1k5bedL0Z3_6",
        "outputId": "1a41a467-c7b4-4612-fbbf-7ebd3a56f0de",
        "colab": {
          "base_uri": "https://localhost:8080/"
        }
      },
      "outputs": [
        {
          "output_type": "execute_result",
          "data": {
            "text/plain": [
              "False"
            ]
          },
          "metadata": {},
          "execution_count": 19
        }
      ],
      "source": [
        "# Run this cell without changes\n",
        "is_cheaper(fork_fig, frontier_restaurant) # False"
      ]
    },
    {
      "cell_type": "code",
      "execution_count": 20,
      "metadata": {
        "id": "X7QeR1J6Z3_6",
        "outputId": "d6b880d1-3202-46ca-fbf1-5e54e3d9e6b5",
        "colab": {
          "base_uri": "https://localhost:8080/"
        }
      },
      "outputs": [
        {
          "output_type": "execute_result",
          "data": {
            "text/plain": [
              "True"
            ]
          },
          "metadata": {},
          "execution_count": 20
        }
      ],
      "source": [
        "# Run this cell without changes\n",
        "is_cheaper(frontier_restaurant, fork_fig) # True"
      ]
    },
    {
      "cell_type": "code",
      "execution_count": 21,
      "metadata": {
        "id": "o-hxIxrEZ3_6",
        "outputId": "39480609-b1bb-400d-b132-76491051174f",
        "colab": {
          "base_uri": "https://localhost:8080/"
        }
      },
      "outputs": [
        {
          "output_type": "execute_result",
          "data": {
            "text/plain": [
              "False"
            ]
          },
          "metadata": {},
          "execution_count": 21
        }
      ],
      "source": [
        "# Run this cell without changes\n",
        "is_cheaper(fork_fig, fork_fig) # False"
      ]
    },
    {
      "cell_type": "markdown",
      "metadata": {
        "id": "Lup6QGRQZ3_6"
      },
      "source": [
        "Now write a function called `high_rating()` that takes a `restaurant` as a first argument and a rating (in the form of a number) as the second argument and returns `True` if the given restaurant's rating is greater than or equal to the provided rating and returns `False` otherwise."
      ]
    },
    {
      "cell_type": "code",
      "execution_count": 22,
      "metadata": {
        "id": "JSCZLrzbZ3_6"
      },
      "outputs": [],
      "source": [
        "def high_rating(restaurant, rating):\n",
        "     # Get the restaurant's rating\n",
        "    restaurant_rating_value = restaurant['rating']\n",
        "\n",
        "    # Return True if the restaurant's rating is greater than or equal to the given rating\n",
        "    if restaurant_rating_value >= rating:\n",
        "        return True\n",
        "    else:\n",
        "        return False"
      ]
    },
    {
      "cell_type": "code",
      "execution_count": 23,
      "metadata": {
        "id": "SNNAXwP0Z3_6",
        "outputId": "b219b6fa-77f0-4f0a-8e24-6fe7f5209124",
        "colab": {
          "base_uri": "https://localhost:8080/"
        }
      },
      "outputs": [
        {
          "output_type": "execute_result",
          "data": {
            "text/plain": [
              "True"
            ]
          },
          "metadata": {},
          "execution_count": 23
        }
      ],
      "source": [
        "# Run this cell without changes\n",
        "high_rating(fork_fig, 4) # True"
      ]
    },
    {
      "cell_type": "code",
      "execution_count": 24,
      "metadata": {
        "id": "tsvK_fI7Z3_6",
        "outputId": "b51c25b2-09f2-446b-9a2c-5b29e8918657",
        "colab": {
          "base_uri": "https://localhost:8080/"
        }
      },
      "outputs": [
        {
          "output_type": "execute_result",
          "data": {
            "text/plain": [
              "False"
            ]
          },
          "metadata": {},
          "execution_count": 24
        }
      ],
      "source": [
        "# Run this cell without changes\n",
        "high_rating(fork_fig, 5) # False"
      ]
    },
    {
      "cell_type": "code",
      "execution_count": 25,
      "metadata": {
        "id": "Lbc3vJMfZ3_6",
        "outputId": "c08ab28a-72c9-45d6-93c1-dc43af9eee93",
        "colab": {
          "base_uri": "https://localhost:8080/"
        }
      },
      "outputs": [
        {
          "output_type": "execute_result",
          "data": {
            "text/plain": [
              "True"
            ]
          },
          "metadata": {},
          "execution_count": 25
        }
      ],
      "source": [
        "# Run this cell without changes\n",
        "high_rating(frontier_restaurant, 4) # True"
      ]
    },
    {
      "cell_type": "markdown",
      "metadata": {
        "id": "hBjnAh9qZ3_6"
      },
      "source": [
        "Awesome! We have built out some pretty cool functions so far. Let's now think about a case where we have more than just two data points to operate on. We have added some more restaurant dictionaries below and are going to add them to our list of restaurants. Don't worry that they have a slightly different amount of data.\n",
        "\n",
        "We are going to need a function `mean_review_count()` to give us an idea what the typical value for `review_count` is. This function should take in a list of restaurant dictionaries and return the mean of the review counts for the collection of restaurant dictionaries."
      ]
    },
    {
      "cell_type": "code",
      "execution_count": 26,
      "metadata": {
        "id": "U5ZIv39uZ3_6"
      },
      "outputs": [],
      "source": [
        "# Run this cell without changes\n",
        "dennys = {'categories': [{'alias': 'breakfast', 'title': 'Breakfast'},\n",
        "  {'alias': 'diners', 'title': 'Diners'},\n",
        "  {'alias': 'tradamerican', 'title': 'American (Traditional)'}],\n",
        " 'is_closed': False,\n",
        " 'name': \"Denny's\",\n",
        " 'price': '$',\n",
        " 'rating': 3.0,\n",
        " 'review_count': 1200}\n",
        "\n",
        "ihop = {'categories': [{'alias': 'breakfast', 'title': 'Breakfast'},\n",
        "  {'alias': 'diners', 'title': 'Diners'},\n",
        "  {'alias': 'tradamerican', 'title': 'American (Traditional)'}],\n",
        " 'is_closed': False,\n",
        " 'name': \"IHOP: International House of Pancakes\",\n",
        " 'price': '$',\n",
        " 'rating': 3.45,\n",
        " 'review_count': 1588}\n",
        "\n",
        "mcdonalds = {'categories': [{'alias': 'breakfast', 'title': 'Breakfast'},\n",
        "  {'alias': 'burgers', 'title': 'Burgers'},\n",
        "  {'alias': 'fast food', 'title': 'Good Food Fast'}],\n",
        " 'is_closed': False,\n",
        " 'name': \"McDonalds\",\n",
        " 'price': '$',\n",
        " 'rating': 3.45,\n",
        " 'review_count': 2455}\n",
        "\n",
        "pearl_street_oyster_bar = {'categories': [{'alias': 'seafood', 'title': 'Seafood'},\n",
        "  {'alias': 'gourmet', 'title': 'Gourmet'},\n",
        "  {'alias': 'Shellfish', 'title': 'Shellfish'}],\n",
        " 'is_closed': False,\n",
        " 'name': \"Pear Street Oyster Bar\",\n",
        " 'price': '$$$',\n",
        " 'rating': 4.75,\n",
        " 'review_count': 350}"
      ]
    },
    {
      "cell_type": "code",
      "execution_count": 27,
      "metadata": {
        "id": "9sammQylZ3_6"
      },
      "outputs": [],
      "source": [
        "# Run this cell without changes\n",
        "restaurant_list = [pearl_street_oyster_bar, mcdonalds, ihop, dennys, fork_fig, frontier_restaurant]"
      ]
    },
    {
      "cell_type": "code",
      "execution_count": 28,
      "metadata": {
        "id": "6cRfBXMRZ3_6"
      },
      "outputs": [],
      "source": [
        "def mean_review_count(list_of_restaurants):\n",
        "    # Initialize a variable to store the total review count\n",
        "    total_reviews = 0\n",
        "\n",
        "    # Loop through each restaurant in the list and sum up the review counts\n",
        "    for restaurant in restaurant_list:\n",
        "        total_reviews += restaurant['review_count']\n",
        "\n",
        "    # Calculate the mean by dividing the total review count by the number of restaurants\n",
        "    mean_reviews = total_reviews / len(restaurant_list)\n",
        "\n",
        "    return mean_reviews"
      ]
    },
    {
      "cell_type": "code",
      "execution_count": 29,
      "metadata": {
        "id": "PROYuzpJZ3_7",
        "outputId": "a0e4a550-e5cb-4225-fb35-416da07a7e56",
        "colab": {
          "base_uri": "https://localhost:8080/"
        }
      },
      "outputs": [
        {
          "output_type": "execute_result",
          "data": {
            "text/plain": [
              "1261.0"
            ]
          },
          "metadata": {},
          "execution_count": 29
        }
      ],
      "source": [
        "# Run this cell without changes\n",
        "mean_review_count(restaurant_list) #1261.0"
      ]
    },
    {
      "cell_type": "markdown",
      "metadata": {
        "id": "TjJadGf-Z3_7"
      },
      "source": [
        "Now we have an idea of how many reviews a typical restaurant has, but none of these restaurants have exactly that number of reviews.\n",
        "\n",
        "Which restaurants have a `review_count` within 150 of the average? (\"within 150\" meaning exactly average, <= 150 fewer reviews than the average, or <= 150 more reviews than the average)\n",
        "\n",
        "Return a list of the restaurant names."
      ]
    },
    {
      "cell_type": "code",
      "execution_count": 30,
      "metadata": {
        "id": "gCqWfN_mZ3_7"
      },
      "outputs": [],
      "source": [
        "def near_average_review_count(list_of_restaurants):\n",
        "    mean = mean_review_count(list_of_restaurants)\n",
        "    # Initialize an empty list to store the names of qualifying restaurants\n",
        "    qualifying_restaurants = []\n",
        "\n",
        "    # Loop through each restaurant and check if its review count is within 150 of the mean\n",
        "    for restaurant in restaurant_list:\n",
        "        review_count = restaurant['review_count']\n",
        "        if abs(review_count - mean) <= 150:\n",
        "            qualifying_restaurants.append(restaurant['name'])\n",
        "\n",
        "    return qualifying_restaurants"
      ]
    },
    {
      "cell_type": "code",
      "execution_count": 31,
      "metadata": {
        "id": "1JPoSj5pZ3_7",
        "outputId": "a848070c-3231-4b07-c114-45fe3cde54e5",
        "colab": {
          "base_uri": "https://localhost:8080/"
        }
      },
      "outputs": [
        {
          "output_type": "execute_result",
          "data": {
            "text/plain": [
              "[\"Denny's\", 'Frontier Restaurant']"
            ]
          },
          "metadata": {},
          "execution_count": 31
        }
      ],
      "source": [
        "# Run this cell without changes\n",
        "near_average_review_count(restaurant_list) # [\"Denny's\", 'Frontier Restaurant']"
      ]
    },
    {
      "cell_type": "markdown",
      "metadata": {
        "id": "EF4bH40xZ3_7"
      },
      "source": [
        "## Summary\n",
        "\n",
        "Great! In this lab we saw how to pass both single and multiple arguments to functions. Function arguments can make functions more flexible and reusable!"
      ]
    }
  ],
  "metadata": {
    "kernelspec": {
      "display_name": "Python (learn-env)",
      "language": "python",
      "name": "learn-env"
    },
    "language_info": {
      "codemirror_mode": {
        "name": "ipython",
        "version": 3
      },
      "file_extension": ".py",
      "mimetype": "text/x-python",
      "name": "python",
      "nbconvert_exporter": "python",
      "pygments_lexer": "ipython3",
      "version": "3.8.5"
    },
    "toc": {
      "base_numbering": 1,
      "nav_menu": {},
      "number_sections": true,
      "sideBar": true,
      "skip_h1_title": false,
      "title_cell": "Table of Contents",
      "title_sidebar": "Contents",
      "toc_cell": false,
      "toc_position": {},
      "toc_section_display": true,
      "toc_window_display": false
    },
    "colab": {
      "provenance": [],
      "name": "Functions With Arguments - Lab.ipynb",
      "include_colab_link": true
    }
  },
  "nbformat": 4,
  "nbformat_minor": 0
}