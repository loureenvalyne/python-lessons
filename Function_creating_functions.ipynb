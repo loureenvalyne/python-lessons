{
  "cells": [
    {
      "cell_type": "markdown",
      "metadata": {
        "id": "view-in-github",
        "colab_type": "text"
      },
      "source": [
        "<a href=\"https://colab.research.google.com/github/loureenvalyne/python-lessons/blob/main/Function_creating_functions.ipynb\" target=\"_parent\"><img src=\"https://colab.research.google.com/assets/colab-badge.svg\" alt=\"Open In Colab\"/></a>"
      ]
    },
    {
      "cell_type": "markdown",
      "metadata": {
        "id": "3ODHP76cYpwn"
      },
      "source": [
        "# Creating Functions\n",
        "\n",
        "## Introduction\n",
        "Now that we learned about loops, it would be nice to have the ability to *reuse* our code to help us solve different problems. Functions allow us to do just that. They also give us the ability to name a sequence of operations (or block of code), thus making our code expressive. Let's see how this works, and why something like this is useful."
      ]
    },
    {
      "cell_type": "markdown",
      "metadata": {
        "id": "DnkKfcKAYpwo"
      },
      "source": [
        "## Objectives\n",
        "\n",
        "You will be able to:\n",
        "\n",
        "* Declare and use a basic function"
      ]
    },
    {
      "cell_type": "markdown",
      "metadata": {
        "id": "YiMJ96ZbYpwo"
      },
      "source": [
        "## Our problem so far"
      ]
    },
    {
      "cell_type": "markdown",
      "metadata": {
        "id": "q4Lq4-VAYpwp"
      },
      "source": [
        "Imagine that we have a group of employees who have just joined our company.  "
      ]
    },
    {
      "cell_type": "code",
      "execution_count": 1,
      "metadata": {
        "id": "_WjWRLLqYpwp"
      },
      "outputs": [],
      "source": [
        "new_employees = ['jim', 'tracy', 'lisa']"
      ]
    },
    {
      "cell_type": "markdown",
      "metadata": {
        "id": "5oa4Q_pWYpwq"
      },
      "source": [
        "> Press shift + enter to run this code."
      ]
    },
    {
      "cell_type": "markdown",
      "metadata": {
        "id": "p94Fgeh3Ypwq"
      },
      "source": [
        "We want to send each of them a nice welcome message.  We could use a `for` loop to create a list of `welcome_messages`."
      ]
    },
    {
      "cell_type": "code",
      "execution_count": 2,
      "metadata": {
        "id": "bT-7J5HVYpwq",
        "outputId": "8faca127-13df-4937-9397-e5b8441f0bf2",
        "colab": {
          "base_uri": "https://localhost:8080/"
        }
      },
      "outputs": [
        {
          "output_type": "execute_result",
          "data": {
            "text/plain": [
              "[\"Hi Jim, I'm so glad to be working with you!\",\n",
              " \"Hi Tracy, I'm so glad to be working with you!\",\n",
              " \"Hi Lisa, I'm so glad to be working with you!\"]"
            ]
          },
          "metadata": {},
          "execution_count": 2
        }
      ],
      "source": [
        "welcome_messages = []\n",
        "for new_employee in new_employees:\n",
        "    welcome_messages.append(\"Hi \" + new_employee.title() + \", I'm so glad to be working with you!\" )\n",
        "\n",
        "welcome_messages"
      ]
    },
    {
      "cell_type": "markdown",
      "metadata": {
        "id": "3kR1-mcDYpwq"
      },
      "source": [
        "Then a couple of weeks later, a few more employees join, and we want to send messages to them as well."
      ]
    },
    {
      "cell_type": "code",
      "execution_count": 3,
      "metadata": {
        "id": "q5ub4wfYYpwr"
      },
      "outputs": [],
      "source": [
        "new_employees = ['steven', 'jan', 'meryl']"
      ]
    },
    {
      "cell_type": "markdown",
      "metadata": {
        "id": "rNe4kGd8Ypwr"
      },
      "source": [
        "Well to accomplish welcoming the new employees, we would likely copy our code from above."
      ]
    },
    {
      "cell_type": "code",
      "execution_count": 4,
      "metadata": {
        "id": "M4g6C7IlYpwr",
        "outputId": "2176b7e6-224b-4fc2-c994-b32fd46f311b",
        "colab": {
          "base_uri": "https://localhost:8080/"
        }
      },
      "outputs": [
        {
          "output_type": "execute_result",
          "data": {
            "text/plain": [
              "[\"Hi Steven, I'm so glad to be working with you!\",\n",
              " \"Hi Jan, I'm so glad to be working with you!\",\n",
              " \"Hi Meryl, I'm so glad to be working with you!\"]"
            ]
          },
          "metadata": {},
          "execution_count": 4
        }
      ],
      "source": [
        "welcome_messages = []\n",
        "for new_employee in new_employees:\n",
        "    welcome_messages.append(\"Hi \" + new_employee.title() + \", I'm so glad to be working with you!\" )\n",
        "\n",
        "welcome_messages"
      ]
    },
    {
      "cell_type": "markdown",
      "metadata": {
        "id": "DLW8hTB6Ypwr"
      },
      "source": [
        "If each time we wanted to reuse code we would have to copy and paste the code and maintain a lot more code than is necessary.  Also, each time we recopied it is another opportunity to make a mistake.  So what if there was a way to write that code just one time, yet be able to execute that code wherever and whenever we want?  Functions allow us to do just that.\n",
        "\n",
        "Here is that same code wrapped in a function:"
      ]
    },
    {
      "cell_type": "code",
      "execution_count": 5,
      "metadata": {
        "id": "e-juHmzHYpwr"
      },
      "outputs": [],
      "source": [
        "def greet_employees():\n",
        "    welcome_messages = []\n",
        "    for new_employee in new_employees:\n",
        "        welcome_messages.append(\"Hi \" + new_employee.title() + \", I'm so glad to be working with you!\" )\n",
        "\n",
        "    return welcome_messages"
      ]
    },
    {
      "cell_type": "code",
      "execution_count": 6,
      "metadata": {
        "scrolled": true,
        "id": "50m2b6FMYpwr",
        "outputId": "ba22003f-740d-4de7-8627-f81d195216ac",
        "colab": {
          "base_uri": "https://localhost:8080/"
        }
      },
      "outputs": [
        {
          "output_type": "execute_result",
          "data": {
            "text/plain": [
              "[\"Hi Steven, I'm so glad to be working with you!\",\n",
              " \"Hi Jan, I'm so glad to be working with you!\",\n",
              " \"Hi Meryl, I'm so glad to be working with you!\"]"
            ]
          },
          "metadata": {},
          "execution_count": 6
        }
      ],
      "source": [
        "greet_employees()"
      ]
    },
    {
      "cell_type": "markdown",
      "metadata": {
        "id": "8ldEaxM5Ypwr"
      },
      "source": [
        "> Make sure to press shift + enter for the two cells above."
      ]
    },
    {
      "cell_type": "markdown",
      "metadata": {
        "id": "dIwr7PU6Ypwr"
      },
      "source": [
        "There are two steps to using a function: defining a function and executing a function.  Defining a function happens first, and afterward when we call `greet_employees()` we execute the function.   "
      ]
    },
    {
      "cell_type": "code",
      "execution_count": 7,
      "metadata": {
        "id": "CwManbwXYpwr",
        "outputId": "81974115-8b4c-4536-f86d-df17cbe6e6fa",
        "colab": {
          "base_uri": "https://localhost:8080/"
        }
      },
      "outputs": [
        {
          "output_type": "execute_result",
          "data": {
            "text/plain": [
              "[\"Hi Jan, I'm so glad to be working with you!\",\n",
              " \"Hi Joe, I'm so glad to be working with you!\",\n",
              " \"Hi Avi, I'm so glad to be working with you!\"]"
            ]
          },
          "metadata": {},
          "execution_count": 7
        }
      ],
      "source": [
        "new_employees = ['Jan', 'Joe', 'Avi']\n",
        "greet_employees()"
      ]
    },
    {
      "cell_type": "markdown",
      "metadata": {
        "id": "TzHrIh1hYpwr"
      },
      "source": [
        "Ok, let's break down how to define, or declare, a function.  Executing a function is fairly simple, just type the function's name followed by parentheses."
      ]
    },
    {
      "cell_type": "code",
      "execution_count": 8,
      "metadata": {
        "id": "0Vx9agHWYpwr",
        "outputId": "55061691-c220-4300-c0c6-cf3a26c213b9",
        "colab": {
          "base_uri": "https://localhost:8080/"
        }
      },
      "outputs": [
        {
          "output_type": "execute_result",
          "data": {
            "text/plain": [
              "[\"Hi Jan, I'm so glad to be working with you!\",\n",
              " \"Hi Joe, I'm so glad to be working with you!\",\n",
              " \"Hi Avi, I'm so glad to be working with you!\"]"
            ]
          },
          "metadata": {},
          "execution_count": 8
        }
      ],
      "source": [
        "greet_employees()"
      ]
    },
    {
      "cell_type": "markdown",
      "metadata": {
        "id": "WXd0iPq-Ypws"
      },
      "source": [
        "## Declaring and using functions"
      ]
    },
    {
      "cell_type": "markdown",
      "metadata": {
        "id": "sFt5jPJYYpws"
      },
      "source": [
        "There are two components to declaring a function: the function signature and the function body."
      ]
    },
    {
      "cell_type": "code",
      "execution_count": 9,
      "metadata": {
        "id": "jvLAq0tCYpws"
      },
      "outputs": [],
      "source": [
        "def name_of_function(): # signature\n",
        "    words = 'function body' # body\n",
        "    print(words) # body"
      ]
    },
    {
      "cell_type": "markdown",
      "metadata": {
        "id": "3C3YSrlgYpws"
      },
      "source": [
        "### Function Signature\n",
        "\n",
        "The function signature is the first line of the function.  It follows the pattern of `def`, `function name`, `parentheses`, `colon`.\n",
        "\n",
        "`def name_of_function():`\n",
        "\n",
        "The `def` is there to tell Python that you are about to declare a function.  The name of the function indicates how to reference and execute the function later.  The colon is to end the function signature and indicate that the body of the function is next.  The parentheses are important as well, and we'll explain their use in a later lesson.\n",
        "\n",
        "### Function Body\n",
        "\n",
        "The body of the function is what the function does.  This is the code that runs each time we execute the function.  We indicate that we are writing the function body by going to the next line and indenting after the colon.  To complete the function body we stop indenting.  "
      ]
    },
    {
      "cell_type": "code",
      "execution_count": 10,
      "metadata": {
        "id": "w5Rp7qmaYpws"
      },
      "outputs": [],
      "source": [
        "def name_of_function():\n",
        "    words = 'function body' # function body\n",
        "    print(words) # function body\n",
        "# no longer part of the function body"
      ]
    },
    {
      "cell_type": "markdown",
      "metadata": {
        "id": "Jn-_0xA_Ypws"
      },
      "source": [
        "Let's execute the `name_of_function()` function."
      ]
    },
    {
      "cell_type": "code",
      "execution_count": 11,
      "metadata": {
        "id": "c0f-KjD9Ypws",
        "outputId": "110c0689-ee99-4c4b-db80-89173ad2c62f",
        "colab": {
          "base_uri": "https://localhost:8080/"
        }
      },
      "outputs": [
        {
          "output_type": "stream",
          "name": "stdout",
          "text": [
            "function body\n"
          ]
        }
      ],
      "source": [
        "name_of_function()"
      ]
    },
    {
      "cell_type": "markdown",
      "metadata": {
        "id": "bsFGCB8HYpws"
      },
      "source": [
        "> Press shift + enter"
      ]
    },
    {
      "cell_type": "markdown",
      "metadata": {
        "id": "WAaAupCsYpws"
      },
      "source": [
        "Did it work?  Kinda.  The lines of our function were run.  But our function did not return anything.  Functions are designed so that everything inside of them stays inside.  So for example, even though we declared the `words` variable, `words` is not available from outside of the function."
      ]
    },
    {
      "cell_type": "code",
      "source": [
        "words"
      ],
      "metadata": {
        "id": "mNkKXiHdGrgt"
      },
      "execution_count": null,
      "outputs": []
    },
    {
      "cell_type": "markdown",
      "metadata": {
        "id": "cYCwG2iZYpws"
      },
      "source": [
        "To get something out of the function, we must use the `return` keyword, followed by what we would like to return.  Let's declare another function called `other_function()` that has a body which is exactly the same, but has a return statement."
      ]
    },
    {
      "cell_type": "code",
      "execution_count": 15,
      "metadata": {
        "id": "ke_hey-vYpws"
      },
      "outputs": [],
      "source": [
        "def other_function(): # signature\n",
        "    words = 'returned from inside the function body' # body\n",
        "    return words"
      ]
    },
    {
      "cell_type": "code",
      "execution_count": 16,
      "metadata": {
        "id": "97jeFiUtYpwt",
        "outputId": "3fa3a297-62ad-4717-e93b-1c6881920c6d",
        "colab": {
          "base_uri": "https://localhost:8080/",
          "height": 36
        }
      },
      "outputs": [
        {
          "output_type": "execute_result",
          "data": {
            "text/plain": [
              "'returned from inside the function body'"
            ],
            "application/vnd.google.colaboratory.intrinsic+json": {
              "type": "string"
            }
          },
          "metadata": {},
          "execution_count": 16
        }
      ],
      "source": [
        "other_function()"
      ]
    },
    {
      "cell_type": "markdown",
      "metadata": {
        "id": "t0NijDx5Ypwt"
      },
      "source": [
        "Much better.  So with the return statement we returned the string `'returned from inside the function body'`."
      ]
    },
    {
      "cell_type": "markdown",
      "metadata": {
        "id": "U9KZ_v8VYpwt"
      },
      "source": [
        "> We will learn more on what is available from inside and outside of the function, so, don't worry if it feels a little confusing right now."
      ]
    },
    {
      "cell_type": "markdown",
      "metadata": {
        "id": "09WXMuoWYpwt"
      },
      "source": [
        "## See it again"
      ]
    },
    {
      "cell_type": "markdown",
      "metadata": {
        "id": "2_zUjWuaYpwt"
      },
      "source": [
        "Now let's identify the function signature and function body of our original function, `greet_empoyees()`."
      ]
    },
    {
      "cell_type": "code",
      "execution_count": 17,
      "metadata": {
        "id": "j7Tf6FjxYpwt"
      },
      "outputs": [],
      "source": [
        "def greet_employees(): # function signature\n",
        "    welcome_messages = [] # begin function body\n",
        "    for new_employee in new_employees:\n",
        "        welcome_messages.append(\"Hi \" + new_employee.title() + \", I'm so glad to be working with you!\" )\n",
        "\n",
        "    return welcome_messages # return statement\n",
        "\n",
        "# no longer in function body"
      ]
    },
    {
      "cell_type": "markdown",
      "metadata": {
        "id": "Ndl1QeCxYpwt"
      },
      "source": [
        "As you can see, `greet_employees()` has the same components of a function we identified earlier: the function signature, the function body, and the return statement. Each time we call, `greet_employees()`, all of the lines in the body of the function are run.  However, only the return value is accessible from outside of the function."
      ]
    },
    {
      "cell_type": "code",
      "execution_count": 18,
      "metadata": {
        "id": "UvoUSYwaYpwt",
        "outputId": "ca44f723-36b4-496a-cecd-87c5cda6daee",
        "colab": {
          "base_uri": "https://localhost:8080/"
        }
      },
      "outputs": [
        {
          "output_type": "execute_result",
          "data": {
            "text/plain": [
              "[\"Hi Jan, I'm so glad to be working with you!\",\n",
              " \"Hi Joe, I'm so glad to be working with you!\",\n",
              " \"Hi Avi, I'm so glad to be working with you!\"]"
            ]
          },
          "metadata": {},
          "execution_count": 18
        }
      ],
      "source": [
        "greet_employees()"
      ]
    },
    {
      "cell_type": "markdown",
      "metadata": {
        "id": "Zudx3Wt9Ypwt"
      },
      "source": [
        "## Summary"
      ]
    },
    {
      "cell_type": "markdown",
      "metadata": {
        "collapsed": true,
        "id": "OPSMbTOUYpwu"
      },
      "source": [
        "In this lesson we saw how using a function allows us to reuse code without rewriting it.  We saw that to declare a function we first write the function signature, which consists of the `def` keyword, the function name, parentheses, and a colon.  We indicate the body of the function by indenting our code and then writing the code that our function will execute.  To execute the function, we write the function's name followed by parentheses.  Executing the function will run the lines in the body of the function."
      ]
    }
  ],
  "metadata": {
    "kernelspec": {
      "display_name": "Python (learn-env)",
      "language": "python",
      "name": "learn-env"
    },
    "language_info": {
      "codemirror_mode": {
        "name": "ipython",
        "version": 3
      },
      "file_extension": ".py",
      "mimetype": "text/x-python",
      "name": "python",
      "nbconvert_exporter": "python",
      "pygments_lexer": "ipython3",
      "version": "3.8.5"
    },
    "toc": {
      "base_numbering": 1,
      "nav_menu": {},
      "number_sections": true,
      "sideBar": true,
      "skip_h1_title": false,
      "title_cell": "Table of Contents",
      "title_sidebar": "Contents",
      "toc_cell": false,
      "toc_position": {},
      "toc_section_display": true,
      "toc_window_display": false
    },
    "colab": {
      "provenance": [],
      "name": "Function_creating_functions.ipynb",
      "include_colab_link": true
    }
  },
  "nbformat": 4,
  "nbformat_minor": 0
}